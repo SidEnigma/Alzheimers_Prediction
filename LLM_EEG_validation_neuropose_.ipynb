{
  "cells": [
    {
      "cell_type": "markdown",
      "metadata": {},
      "source": [
        "# Data Exploration"
      ]
    },
    {
      "cell_type": "code",
      "execution_count": 34,
      "metadata": {},
      "outputs": [
        {
          "data": {
            "text/html": [
              "<div>\n",
              "<style scoped>\n",
              "    .dataframe tbody tr th:only-of-type {\n",
              "        vertical-align: middle;\n",
              "    }\n",
              "\n",
              "    .dataframe tbody tr th {\n",
              "        vertical-align: top;\n",
              "    }\n",
              "\n",
              "    .dataframe thead th {\n",
              "        text-align: right;\n",
              "    }\n",
              "</style>\n",
              "<table border=\"1\" class=\"dataframe\">\n",
              "  <thead>\n",
              "    <tr style=\"text-align: right;\">\n",
              "      <th></th>\n",
              "      <th>Timestamp</th>\n",
              "      <th>Fp1</th>\n",
              "      <th>Fp2</th>\n",
              "      <th>AF3</th>\n",
              "      <th>AF4</th>\n",
              "      <th>F3</th>\n",
              "      <th>F4</th>\n",
              "      <th>F7</th>\n",
              "      <th>F8</th>\n",
              "      <th>C3</th>\n",
              "      <th>C4</th>\n",
              "      <th>P3</th>\n",
              "      <th>P4</th>\n",
              "      <th>O1</th>\n",
              "      <th>O2</th>\n",
              "    </tr>\n",
              "  </thead>\n",
              "  <tbody>\n",
              "    <tr>\n",
              "      <th>0</th>\n",
              "      <td>0.000000</td>\n",
              "      <td>0.448642</td>\n",
              "      <td>-0.803253</td>\n",
              "      <td>0.373527</td>\n",
              "      <td>1.146638</td>\n",
              "      <td>0.484728</td>\n",
              "      <td>-0.572489</td>\n",
              "      <td>-0.865084</td>\n",
              "      <td>0.662773</td>\n",
              "      <td>-0.309773</td>\n",
              "      <td>1.592946</td>\n",
              "      <td>0.185953</td>\n",
              "      <td>-0.337572</td>\n",
              "      <td>2.104746</td>\n",
              "      <td>1.230022</td>\n",
              "    </tr>\n",
              "    <tr>\n",
              "      <th>1</th>\n",
              "      <td>0.003906</td>\n",
              "      <td>2.090023</td>\n",
              "      <td>1.670165</td>\n",
              "      <td>0.951433</td>\n",
              "      <td>1.572754</td>\n",
              "      <td>2.295778</td>\n",
              "      <td>1.765031</td>\n",
              "      <td>0.760493</td>\n",
              "      <td>1.869915</td>\n",
              "      <td>0.157380</td>\n",
              "      <td>1.944910</td>\n",
              "      <td>0.661369</td>\n",
              "      <td>0.596361</td>\n",
              "      <td>2.307327</td>\n",
              "      <td>1.324300</td>\n",
              "    </tr>\n",
              "    <tr>\n",
              "      <th>2</th>\n",
              "      <td>0.007813</td>\n",
              "      <td>2.218464</td>\n",
              "      <td>1.360983</td>\n",
              "      <td>3.636326</td>\n",
              "      <td>3.931913</td>\n",
              "      <td>3.996904</td>\n",
              "      <td>2.862533</td>\n",
              "      <td>0.610613</td>\n",
              "      <td>2.600416</td>\n",
              "      <td>3.055214</td>\n",
              "      <td>1.640815</td>\n",
              "      <td>2.641861</td>\n",
              "      <td>3.005231</td>\n",
              "      <td>3.093876</td>\n",
              "      <td>2.332353</td>\n",
              "    </tr>\n",
              "    <tr>\n",
              "      <th>3</th>\n",
              "      <td>0.011719</td>\n",
              "      <td>2.585628</td>\n",
              "      <td>3.776874</td>\n",
              "      <td>3.107788</td>\n",
              "      <td>3.452815</td>\n",
              "      <td>3.520370</td>\n",
              "      <td>3.281505</td>\n",
              "      <td>2.095850</td>\n",
              "      <td>0.876472</td>\n",
              "      <td>0.815594</td>\n",
              "      <td>3.342937</td>\n",
              "      <td>2.545877</td>\n",
              "      <td>2.930138</td>\n",
              "      <td>4.709334</td>\n",
              "      <td>2.958639</td>\n",
              "    </tr>\n",
              "    <tr>\n",
              "      <th>4</th>\n",
              "      <td>0.015626</td>\n",
              "      <td>5.080726</td>\n",
              "      <td>2.538559</td>\n",
              "      <td>2.541685</td>\n",
              "      <td>3.382928</td>\n",
              "      <td>3.489544</td>\n",
              "      <td>3.615414</td>\n",
              "      <td>3.394438</td>\n",
              "      <td>3.151577</td>\n",
              "      <td>3.684406</td>\n",
              "      <td>3.048051</td>\n",
              "      <td>1.256440</td>\n",
              "      <td>2.480579</td>\n",
              "      <td>2.315691</td>\n",
              "      <td>3.142053</td>\n",
              "    </tr>\n",
              "  </tbody>\n",
              "</table>\n",
              "</div>"
            ],
            "text/plain": [
              "   Timestamp       Fp1       Fp2       AF3       AF4        F3        F4  \\\n",
              "0   0.000000  0.448642 -0.803253  0.373527  1.146638  0.484728 -0.572489   \n",
              "1   0.003906  2.090023  1.670165  0.951433  1.572754  2.295778  1.765031   \n",
              "2   0.007813  2.218464  1.360983  3.636326  3.931913  3.996904  2.862533   \n",
              "3   0.011719  2.585628  3.776874  3.107788  3.452815  3.520370  3.281505   \n",
              "4   0.015626  5.080726  2.538559  2.541685  3.382928  3.489544  3.615414   \n",
              "\n",
              "         F7        F8        C3        C4        P3        P4        O1  \\\n",
              "0 -0.865084  0.662773 -0.309773  1.592946  0.185953 -0.337572  2.104746   \n",
              "1  0.760493  1.869915  0.157380  1.944910  0.661369  0.596361  2.307327   \n",
              "2  0.610613  2.600416  3.055214  1.640815  2.641861  3.005231  3.093876   \n",
              "3  2.095850  0.876472  0.815594  3.342937  2.545877  2.930138  4.709334   \n",
              "4  3.394438  3.151577  3.684406  3.048051  1.256440  2.480579  2.315691   \n",
              "\n",
              "         O2  \n",
              "0  1.230022  \n",
              "1  1.324300  \n",
              "2  2.332353  \n",
              "3  2.958639  \n",
              "4  3.142053  "
            ]
          },
          "execution_count": 34,
          "metadata": {},
          "output_type": "execute_result"
        }
      ],
      "source": [
        "import pandas as pd\n",
        "\n",
        "df_healthy = pd.read_csv(\"NeuroSyncAI/mci_dataset_neuropose_small/Healthy/eeg_data_Baseline Resting_Healthy_trial2_20250503_155534_266058.csv\")\n",
        "df_mci = pd.read_csv(\"NeuroSyncAI/mci_dataset_neuropose_small/MCI/eeg_data_Baseline Resting_MCI_trial2_20250503_160122_495156.csv\")\n",
        "df_healthy.head()"
      ]
    },
    {
      "cell_type": "code",
      "execution_count": 6,
      "metadata": {},
      "outputs": [
        {
          "data": {
            "text/plain": [
              "(30720, 15)"
            ]
          },
          "execution_count": 6,
          "metadata": {},
          "output_type": "execute_result"
        }
      ],
      "source": [
        "df_healthy.shape"
      ]
    },
    {
      "cell_type": "code",
      "execution_count": null,
      "metadata": {},
      "outputs": [
        {
          "name": "stdout",
          "output_type": "stream",
          "text": [
            "Number of subjects: 50\n",
            "EEG channels: ['AF3', 'AF4', 'C3', 'C4', 'F3', 'F4', 'F7', 'F8', 'Fp1', 'Fp2', 'O1', 'O2', 'P3', 'P4']\n",
            "Signal Duration:  120\n"
          ]
        }
      ],
      "source": [
        "import os\n",
        "\n",
        "ROOT_PATH = \"NeuroSyncAI/mci_dataset_neuropose_small\"\n",
        "n_subjects = 0\n",
        "for condition in [\"Healthy\", \"MCI\"]:\n",
        "    for file in os.listdir(os.path.join(ROOT_PATH, condition)):\n",
        "        if \"eeg\" in file:\n",
        "            n_subjects += 1\n",
        "\n",
        "print(f\"Number of subjects: {n_subjects}\")\n",
        "\n",
        "eeg_channels = df_healthy.select_dtypes(include=['number']).columns.difference(['Timestamp'])\n",
        "print(f\"EEG channels:\", [ch for ch in eeg_channels])\n",
        "\n",
        "fs = 256  # Sampling frequency\n",
        "print(f\"Signal Duration: \", len(df_healthy) // fs)"
      ]
    },
    {
      "cell_type": "code",
      "execution_count": 26,
      "metadata": {},
      "outputs": [],
      "source": [
        "# choose the channel you want to compare\n",
        "CHANNEL = 'Fp2'"
      ]
    },
    {
      "cell_type": "code",
      "execution_count": 35,
      "metadata": {},
      "outputs": [
        {
          "data": {
            "image/png": "[encoded data removed]",
            "text/plain": [
              "<Figure size 2500x500 with 1 Axes>"
            ]
          },
          "metadata": {},
          "output_type": "display_data"
        }
      ],
      "source": [
        "import matplotlib.pyplot as plt\n",
        "\n",
        "# Visualizing the first 4s of EEG\n",
        "plt.figure(figsize=(25,5))\n",
        "plt.plot(df_mci[CHANNEL][0:1024], label='MCI patient', color='coral')\n",
        "plt.plot(df_healthy[CHANNEL][0:1024], label='Healthy patient', color='cornflowerblue')\n",
        "plt.xlabel('Time (samples)')\n",
        "plt.ylabel('Amplitude (µV)')\n",
        "plt.title(f'EEG Signals from {CHANNEL} Channel (First 4 Seconds)')\n",
        "plt.legend()\n",
        "plt.show()"
      ]
    },
    {
      "cell_type": "code",
      "execution_count": 28,
      "metadata": {},
      "outputs": [
        {
          "name": "stdout",
          "output_type": "stream",
          "text": [
            "Standard Deviation of Healthy subject: 2.25\n",
            "Standard Deviation of MCI subject: 0.98\n"
          ]
        }
      ],
      "source": [
        "import numpy as np\n",
        "print(f\"Standard Deviation of Healthy subject: {np.std(df_healthy[CHANNEL]):.2f}\")\n",
        "print(f\"Standard Deviation of MCI subject: {np.std(df_mci[CHANNEL]):.2f}\")"
      ]
    },
    {
      "cell_type": "code",
      "execution_count": 36,
      "metadata": {},
      "outputs": [
        {
          "data": {
            "image/png": "[encoded data removed]",
            "text/plain": [
              "<Figure size 1000x500 with 1 Axes>"
            ]
          },
          "metadata": {},
          "output_type": "display_data"
        }
      ],
      "source": [
        "# Histogram comparison\n",
        "plt.figure(figsize=(10, 5))\n",
        "plt.hist(df_healthy[CHANNEL], bins=50, alpha=0.5, color='cornflowerblue', label=\"Healthy\", density=True)\n",
        "plt.hist(df_mci[CHANNEL], bins=50, alpha=0.5, color='coral', label=\"MCI\", density=True)\n",
        "plt.xlabel(\"Amplitude (µV)\")\n",
        "plt.ylabel(\"Density\")\n",
        "plt.title(f\"Histogram of EEG Channel {CHANNEL}\")\n",
        "plt.legend()\n",
        "plt.show()"
      ]
    },
    {
      "cell_type": "markdown",
      "metadata": {
        "id": "dKcAHJeFtcF3"
      },
      "source": [
        "# Anomalies Extraction Functions"
      ]
    },
    {
      "cell_type": "code",
      "execution_count": 1,
      "metadata": {
        "id": "7bMgHMriT7KL"
      },
      "outputs": [],
      "source": [
        "def eeg_band_anomaly_detector(eeg_df,\n",
        "                                    sampling_rate=256,\n",
        "                                    window_sec=2,\n",
        "                                    alpha_thresh=0.2,\n",
        "                                    beta_thresh=0.15,\n",
        "                                    z_thresh=-2.0):\n",
        "    from scipy.signal import welch\n",
        "    from scipy.stats import zscore\n",
        "    import numpy as np\n",
        "\n",
        "    if 'Timestamp' not in eeg_df.columns:\n",
        "        raise ValueError(\"Expected 'Timestamp' column in EEG data.\")\n",
        "\n",
        "    eeg_channels = eeg_df.select_dtypes(include=['number']).columns.difference(['Timestamp'])\n",
        "    window_size = int(sampling_rate * window_sec)\n",
        "    total_samples = len(eeg_df)\n",
        "    num_windows = total_samples // window_size\n",
        "\n",
        "    band_powers = {ch: {'theta': [], 'alpha': [], 'beta': []} for ch in eeg_channels}\n",
        "    window_times = []\n",
        "\n",
        "    for w in range(num_windows):\n",
        "        start = w * window_size\n",
        "        end = start + window_size\n",
        "        seg = eeg_df.iloc[start:end]\n",
        "        if len(seg) < window_size:\n",
        "            continue\n",
        "\n",
        "        window_times.append(seg['Timestamp'].mean())\n",
        "        for ch in eeg_channels:\n",
        "            freqs, psd = welch(seg[ch], fs=sampling_rate, nperseg=window_size)\n",
        "            theta = np.trapezoid(psd[(freqs >= 4) & (freqs < 8)], freqs[(freqs >= 4) & (freqs < 8)])\n",
        "            alpha = np.trapezoid(psd[(freqs >= 8) & (freqs < 12)], freqs[(freqs >= 8) & (freqs < 12)])\n",
        "            beta = np.trapezoid(psd[(freqs >= 13) & (freqs < 30)], freqs[(freqs >= 13) & (freqs < 30)])\n",
        "\n",
        "            band_powers[ch]['theta'].append(theta)\n",
        "            band_powers[ch]['alpha'].append(alpha)\n",
        "            band_powers[ch]['beta'].append(beta)\n",
        "\n",
        "    anomalies = []\n",
        "\n",
        "    # 1️⃣ Local band ratio suppression\n",
        "    alpha_ratios, beta_ratios = [], []\n",
        "    for ch in eeg_channels:\n",
        "        for i, t in enumerate(window_times):\n",
        "            th = band_powers[ch]['theta'][i]\n",
        "            al = band_powers[ch]['alpha'][i]\n",
        "            be = band_powers[ch]['beta'][i]\n",
        "            total = th + al + be\n",
        "            if total == 0:\n",
        "                continue\n",
        "            alpha_ratio = al / total\n",
        "            beta_ratio = be / total\n",
        "            alpha_ratios.append(alpha_ratio)\n",
        "            beta_ratios.append(beta_ratio)\n",
        "\n",
        "            if alpha_ratio < alpha_thresh:\n",
        "                anomalies.append(f\"Low alpha ratio in {ch} at {t:.2f}s (ratio = {alpha_ratio:.2f})\")\n",
        "            if beta_ratio < beta_thresh:\n",
        "                anomalies.append(f\"Low beta ratio in {ch} at {t:.2f}s (ratio = {beta_ratio:.2f})\")\n",
        "\n",
        "    # Debug output: band ratio distributions\n",
        "    print(\"Alpha ratio percentiles:\", np.percentile(alpha_ratios, [5, 25, 50, 75, 95]))\n",
        "    print(\"Beta ratio percentiles :\", np.percentile(beta_ratios, [5, 25, 50, 75, 95]))\n",
        "\n",
        "    # 2️⃣ Global z-score check\n",
        "    for band in ['alpha', 'beta']:\n",
        "        means = [np.mean(band_powers[ch][band]) for ch in eeg_channels]\n",
        "        zs = zscore(means)\n",
        "        for ch, z in zip(eeg_channels, zs):\n",
        "            if z < z_thresh:\n",
        "                label = \"Suppressed Alpha\" if band == \"alpha\" else \"Suppressed Beta\"\n",
        "                anomalies.append(f\"{label} globally in {ch} (z = {z:.2f})\")\n",
        "\n",
        "    return anomalies or [\"No significant EEG band anomalies detected.\"]"
      ]
    },
    {
      "cell_type": "code",
      "execution_count": 2,
      "metadata": {
        "id": "Gphp8VrQS5El"
      },
      "outputs": [],
      "source": [
        "def generate_combined_summary(eeg_df):\n",
        "    from scipy.signal import welch\n",
        "    from scipy.stats import zscore\n",
        "    import numpy as np\n",
        "\n",
        "    # --- EEG SUMMARY ---\n",
        "    eeg_channels = eeg_df.select_dtypes(include=['number']).columns.difference(['Timestamp'])\n",
        "    window_size = 512\n",
        "    band_powers = {ch: {'theta': [], 'alpha': [], 'beta': []} for ch in eeg_channels}\n",
        "    for w in range(len(eeg_df) // window_size):\n",
        "        seg = eeg_df.iloc[w * window_size:(w + 1) * window_size]\n",
        "        for ch in eeg_channels:\n",
        "            freqs, psd = welch(seg[ch], fs=256, nperseg=window_size)\n",
        "            for band, lo, hi in [('theta', 4, 8), ('alpha', 8, 12), ('beta', 13, 30)]:\n",
        "                power = np.trapezoid(psd[(freqs >= lo) & (freqs < hi)], freqs[(freqs >= lo) & (freqs < hi)])\n",
        "                band_powers[ch][band].append(power)\n",
        "\n",
        "    means = {band: np.mean([np.mean(band_powers[ch][band]) for ch in eeg_channels])\n",
        "             for band in ['theta', 'alpha', 'beta']}\n",
        "    ta_ratio = means['theta'] / (means['alpha'] + 1e-6)\n",
        "    tb_ratio = means['theta'] / (means['beta'] + 1e-6)\n",
        "\n",
        "    eeg_summary = []\n",
        "    if means['alpha'] < 1.0:\n",
        "        eeg_summary.append(\"Alpha power is globally reduced.\")\n",
        "    else:\n",
        "        eeg_summary.append(\"Alpha power is within healthy range.\")\n",
        "    if means['theta'] > 0.3:\n",
        "        eeg_summary.append(\"Theta activity is elevated.\")\n",
        "    else:\n",
        "        eeg_summary.append(\"Theta levels are normal.\")\n",
        "    eeg_summary.append(f\"Theta/Alpha ratio: {ta_ratio:.2f}\")\n",
        "    eeg_summary.append(f\"Theta/Beta ratio: {tb_ratio:.2f}\")\n",
        "\n",
        "\n",
        "    # --- Final Combined Summary ---\n",
        "    return (\n",
        "        \"EEG Summary:\\n\" + \"\\n\".join(eeg_summary) + \"\\n\\n\"\n",
        "    )"
      ]
    },
    {
      "cell_type": "markdown",
      "metadata": {
        "id": "dw9J5tEEHr40"
      },
      "source": [
        "# ML Classification"
      ]
    },
    {
      "cell_type": "markdown",
      "metadata": {
        "id": "rHsXOCm9IOou"
      },
      "source": [
        "## Extract Features from Anomalies"
      ]
    },
    {
      "cell_type": "code",
      "execution_count": 3,
      "metadata": {
        "id": "o1HC0OPQHtxs"
      },
      "outputs": [],
      "source": [
        "import re\n",
        "import numpy as np\n",
        "\n",
        "def extract_features_from_anomalies(anomaly_list):\n",
        "    features = {\n",
        "        \"n_alpha_low\": 0,\n",
        "        \"n_beta_low\": 0,\n",
        "        \"n_theta_high\": 0,\n",
        "        \"has_anomalies\": int(anomaly_list and \"No significant\" not in anomaly_list[0])\n",
        "    }\n",
        "\n",
        "    for entry in anomaly_list:\n",
        "        entry = entry.lower()\n",
        "\n",
        "        if \"low alpha\" in entry and \"ratio\" in entry:\n",
        "            try:\n",
        "                ratio = float(re.search(r\"ratio\\s*=\\s*([\\d.]+)\", entry).group(1))\n",
        "                if ratio < 0.22:\n",
        "                    features[\"n_alpha_low\"] += 1\n",
        "            except:\n",
        "                pass\n",
        "\n",
        "        if \"low beta\" in entry:\n",
        "            features[\"n_beta_low\"] += 1\n",
        "\n",
        "        if \"theta\" in entry:\n",
        "            features[\"n_theta_high\"] += 1\n",
        "\n",
        "    if features[\"n_beta_low\"] > 0:\n",
        "        features[\"n_beta_low\"] = np.random.poisson(lam=features[\"n_beta_low\"], size=1)[0]\n",
        "\n",
        "    return features"
      ]
    },
    {
      "cell_type": "code",
      "execution_count": null,
      "metadata": {
        "colab": {
          "base_uri": "https://localhost:8080/"
        },
        "id": "eyFrfheUIRtq",
        "outputId": "4c133134-5463-41a4-957e-0fec8573ab54"
      },
      "outputs": [
        {
          "name": "stderr",
          "output_type": "stream",
          "text": [
            "Extracting ML features:   2%|▏         | 1/50 [00:01<01:06,  1.36s/it]"
          ]
        },
        {
          "name": "stdout",
          "output_type": "stream",
          "text": [
            "Alpha ratio percentiles: [0.46438415 0.50587597 0.53183391 0.55645144 0.59372108]\n",
            "Beta ratio percentiles : [0.40060791 0.43753203 0.46137941 0.48795424 0.5282924 ]\n"
          ]
        },
        {
          "name": "stderr",
          "output_type": "stream",
          "text": [
            "\rExtracting ML features:   4%|▍         | 2/50 [00:02<00:56,  1.18s/it]"
          ]
        },
        {
          "name": "stdout",
          "output_type": "stream",
          "text": [
            "Alpha ratio percentiles: [0.46797602 0.50287887 0.52929996 0.55284913 0.59275196]\n",
            "Beta ratio percentiles : [0.40201709 0.44086869 0.46387897 0.48971122 0.52625525]\n"
          ]
        },
        {
          "name": "stderr",
          "output_type": "stream",
          "text": [
            "\rExtracting ML features:   6%|▌         | 3/50 [00:03<00:53,  1.15s/it]"
          ]
        },
        {
          "name": "stdout",
          "output_type": "stream",
          "text": [
            "Alpha ratio percentiles: [0.46010411 0.50199463 0.52909039 0.55580914 0.59247823]\n",
            "Beta ratio percentiles : [0.40021171 0.43785258 0.46432047 0.49159385 0.53319001]\n"
          ]
        },
        {
          "name": "stderr",
          "output_type": "stream",
          "text": [
            "\rExtracting ML features:   8%|▊         | 4/50 [00:04<00:50,  1.11s/it]"
          ]
        },
        {
          "name": "stdout",
          "output_type": "stream",
          "text": [
            "Alpha ratio percentiles: [0.4676216  0.50429011 0.52893407 0.55626728 0.59619979]\n",
            "Beta ratio percentiles : [0.39862335 0.43670755 0.46420431 0.48909226 0.52494371]\n"
          ]
        },
        {
          "name": "stderr",
          "output_type": "stream",
          "text": [
            "\rExtracting ML features:  10%|█         | 5/50 [00:05<00:49,  1.09s/it]"
          ]
        },
        {
          "name": "stdout",
          "output_type": "stream",
          "text": [
            "Alpha ratio percentiles: [0.46600383 0.5026182  0.52813879 0.55458722 0.59138012]\n",
            "Beta ratio percentiles : [0.40261861 0.43898996 0.46551851 0.49128402 0.52815488]\n"
          ]
        },
        {
          "name": "stderr",
          "output_type": "stream",
          "text": [
            "\rExtracting ML features:  12%|█▏        | 6/50 [00:06<00:47,  1.07s/it]"
          ]
        },
        {
          "name": "stdout",
          "output_type": "stream",
          "text": [
            "Alpha ratio percentiles: [0.46115181 0.50147993 0.53114731 0.55779733 0.59105781]\n",
            "Beta ratio percentiles : [0.40087419 0.43644857 0.46189274 0.49192335 0.53269035]\n"
          ]
        },
        {
          "name": "stderr",
          "output_type": "stream",
          "text": [
            "\rExtracting ML features:  14%|█▍        | 7/50 [00:07<00:45,  1.05s/it]"
          ]
        },
        {
          "name": "stdout",
          "output_type": "stream",
          "text": [
            "Alpha ratio percentiles: [0.46657816 0.50300975 0.53042647 0.55905969 0.59191044]\n",
            "Beta ratio percentiles : [0.40021528 0.43526149 0.46263426 0.48947104 0.52672903]\n"
          ]
        },
        {
          "name": "stderr",
          "output_type": "stream",
          "text": [
            "\rExtracting ML features:  16%|█▌        | 8/50 [00:08<00:44,  1.06s/it]"
          ]
        },
        {
          "name": "stdout",
          "output_type": "stream",
          "text": [
            "Alpha ratio percentiles: [0.4656656  0.50297915 0.52897041 0.55988126 0.59809412]\n",
            "Beta ratio percentiles : [0.39570739 0.43392238 0.46533626 0.49082161 0.52784853]\n"
          ]
        },
        {
          "name": "stderr",
          "output_type": "stream",
          "text": [
            "\rExtracting ML features:  18%|█▊        | 9/50 [00:10<00:46,  1.13s/it]"
          ]
        },
        {
          "name": "stdout",
          "output_type": "stream",
          "text": [
            "Alpha ratio percentiles: [0.46219712 0.50489542 0.5333301  0.55755749 0.59527661]\n",
            "Beta ratio percentiles : [0.39916151 0.43680452 0.46028995 0.48849975 0.52966606]\n"
          ]
        },
        {
          "name": "stderr",
          "output_type": "stream",
          "text": [
            "\rExtracting ML features:  20%|██        | 10/50 [00:11<00:46,  1.17s/it]"
          ]
        },
        {
          "name": "stdout",
          "output_type": "stream",
          "text": [
            "Alpha ratio percentiles: [0.46201551 0.50452638 0.53162317 0.55527771 0.58982138]\n",
            "Beta ratio percentiles : [0.40386295 0.43861636 0.46175354 0.48879517 0.53016792]\n"
          ]
        },
        {
          "name": "stderr",
          "output_type": "stream",
          "text": [
            "\rExtracting ML features:  22%|██▏       | 11/50 [00:12<00:47,  1.21s/it]"
          ]
        },
        {
          "name": "stdout",
          "output_type": "stream",
          "text": [
            "Alpha ratio percentiles: [0.46956576 0.50853085 0.53571481 0.55885526 0.59297382]\n",
            "Beta ratio percentiles : [0.39822462 0.43405187 0.45745532 0.48393557 0.5223849 ]\n"
          ]
        },
        {
          "name": "stderr",
          "output_type": "stream",
          "text": [
            "\rExtracting ML features:  24%|██▍       | 12/50 [00:13<00:43,  1.16s/it]"
          ]
        },
        {
          "name": "stdout",
          "output_type": "stream",
          "text": [
            "Alpha ratio percentiles: [0.46615691 0.50390974 0.53062822 0.55420116 0.59325378]\n",
            "Beta ratio percentiles : [0.40080862 0.43900304 0.46352519 0.48932583 0.52627771]\n"
          ]
        },
        {
          "name": "stderr",
          "output_type": "stream",
          "text": [
            "\rExtracting ML features:  26%|██▌       | 13/50 [00:14<00:42,  1.14s/it]"
          ]
        },
        {
          "name": "stdout",
          "output_type": "stream",
          "text": [
            "Alpha ratio percentiles: [0.4593208  0.5032373  0.5327802  0.55798972 0.59689927]\n",
            "Beta ratio percentiles : [0.3961659  0.43566201 0.46108409 0.49006929 0.53355306]\n"
          ]
        },
        {
          "name": "stderr",
          "output_type": "stream",
          "text": [
            "\rExtracting ML features:  28%|██▊       | 14/50 [00:15<00:38,  1.08s/it]"
          ]
        },
        {
          "name": "stdout",
          "output_type": "stream",
          "text": [
            "Alpha ratio percentiles: [0.46881054 0.50558373 0.53087087 0.55634734 0.59028318]\n",
            "Beta ratio percentiles : [0.40217822 0.43770703 0.4630113  0.48760702 0.52431534]\n"
          ]
        },
        {
          "name": "stderr",
          "output_type": "stream",
          "text": [
            "\rExtracting ML features:  30%|███       | 15/50 [00:16<00:37,  1.06s/it]"
          ]
        },
        {
          "name": "stdout",
          "output_type": "stream",
          "text": [
            "Alpha ratio percentiles: [0.4636468  0.50423721 0.53037552 0.55404512 0.59525999]\n",
            "Beta ratio percentiles : [0.39923575 0.43873156 0.46291571 0.490011   0.52932966]\n"
          ]
        },
        {
          "name": "stderr",
          "output_type": "stream",
          "text": [
            "\rExtracting ML features:  32%|███▏      | 16/50 [00:17<00:36,  1.07s/it]"
          ]
        },
        {
          "name": "stdout",
          "output_type": "stream",
          "text": [
            "Alpha ratio percentiles: [0.46592642 0.50524328 0.52975452 0.55564463 0.58809534]\n",
            "Beta ratio percentiles : [0.40540836 0.43784794 0.4639349  0.48751522 0.52718933]\n"
          ]
        },
        {
          "name": "stderr",
          "output_type": "stream",
          "text": [
            "\rExtracting ML features:  34%|███▍      | 17/50 [00:18<00:35,  1.09s/it]"
          ]
        },
        {
          "name": "stdout",
          "output_type": "stream",
          "text": [
            "Alpha ratio percentiles: [0.46543342 0.50665201 0.53245289 0.55712993 0.59623003]\n",
            "Beta ratio percentiles : [0.39695527 0.43638634 0.4610034  0.48756436 0.52680813]\n"
          ]
        },
        {
          "name": "stderr",
          "output_type": "stream",
          "text": [
            "\rExtracting ML features:  36%|███▌      | 18/50 [00:19<00:34,  1.07s/it]"
          ]
        },
        {
          "name": "stdout",
          "output_type": "stream",
          "text": [
            "Alpha ratio percentiles: [0.46618262 0.50524435 0.53106204 0.55810065 0.59550688]\n",
            "Beta ratio percentiles : [0.39884266 0.4353939  0.46254103 0.48926969 0.52723138]\n"
          ]
        },
        {
          "name": "stderr",
          "output_type": "stream",
          "text": [
            "\rExtracting ML features:  38%|███▊      | 19/50 [00:21<00:33,  1.09s/it]"
          ]
        },
        {
          "name": "stdout",
          "output_type": "stream",
          "text": [
            "Alpha ratio percentiles: [0.46679588 0.50155288 0.52830731 0.5570984  0.5961125 ]\n",
            "Beta ratio percentiles : [0.3985745  0.43732942 0.4653062  0.49181675 0.52710488]\n"
          ]
        },
        {
          "name": "stderr",
          "output_type": "stream",
          "text": [
            "\rExtracting ML features:  40%|████      | 20/50 [00:22<00:31,  1.06s/it]"
          ]
        },
        {
          "name": "stdout",
          "output_type": "stream",
          "text": [
            "Alpha ratio percentiles: [0.46257934 0.50669903 0.53246559 0.55832272 0.59602193]\n",
            "Beta ratio percentiles : [0.3977591  0.43577835 0.45990642 0.48677154 0.52967016]\n"
          ]
        },
        {
          "name": "stderr",
          "output_type": "stream",
          "text": [
            "\rExtracting ML features:  42%|████▏     | 21/50 [00:23<00:32,  1.13s/it]"
          ]
        },
        {
          "name": "stdout",
          "output_type": "stream",
          "text": [
            "Alpha ratio percentiles: [0.46409189 0.50373507 0.53156377 0.55496485 0.592895  ]\n",
            "Beta ratio percentiles : [0.39906718 0.43808639 0.46206038 0.48971687 0.52826153]\n"
          ]
        },
        {
          "name": "stderr",
          "output_type": "stream",
          "text": [
            "\rExtracting ML features:  44%|████▍     | 22/50 [00:24<00:33,  1.18s/it]"
          ]
        },
        {
          "name": "stdout",
          "output_type": "stream",
          "text": [
            "Alpha ratio percentiles: [0.46438719 0.5042674  0.52814355 0.55606959 0.59300891]\n",
            "Beta ratio percentiles : [0.399166   0.43724323 0.46596618 0.48927334 0.52825868]\n"
          ]
        },
        {
          "name": "stderr",
          "output_type": "stream",
          "text": [
            "\rExtracting ML features:  46%|████▌     | 23/50 [00:25<00:30,  1.14s/it]"
          ]
        },
        {
          "name": "stdout",
          "output_type": "stream",
          "text": [
            "Alpha ratio percentiles: [0.46143341 0.50290369 0.53090564 0.56143457 0.59662807]\n",
            "Beta ratio percentiles : [0.39697133 0.43170497 0.46296177 0.48913361 0.52978503]\n"
          ]
        },
        {
          "name": "stderr",
          "output_type": "stream",
          "text": [
            "\rExtracting ML features:  48%|████▊     | 24/50 [00:26<00:28,  1.11s/it]"
          ]
        },
        {
          "name": "stdout",
          "output_type": "stream",
          "text": [
            "Alpha ratio percentiles: [0.46302204 0.50316779 0.53003594 0.55907579 0.59506553]\n",
            "Beta ratio percentiles : [0.39897918 0.4335038  0.46258639 0.48942015 0.53013799]\n"
          ]
        },
        {
          "name": "stderr",
          "output_type": "stream",
          "text": [
            "\rExtracting ML features:  50%|█████     | 25/50 [00:27<00:27,  1.11s/it]"
          ]
        },
        {
          "name": "stdout",
          "output_type": "stream",
          "text": [
            "Alpha ratio percentiles: [0.46794557 0.50446559 0.53255912 0.55625814 0.59322052]\n",
            "Beta ratio percentiles : [0.39950667 0.43709012 0.46030862 0.48861525 0.52580175]\n"
          ]
        },
        {
          "name": "stderr",
          "output_type": "stream",
          "text": [
            "\rExtracting ML features:  52%|█████▏    | 26/50 [00:28<00:25,  1.08s/it]"
          ]
        },
        {
          "name": "stdout",
          "output_type": "stream",
          "text": [
            "Alpha ratio percentiles: [0.0453028  0.07937197 0.11273955 0.15082551 0.22658988]\n",
            "Beta ratio percentiles : [0.32881947 0.43589062 0.52057134 0.59533002 0.69881354]\n"
          ]
        },
        {
          "name": "stderr",
          "output_type": "stream",
          "text": [
            "\rExtracting ML features:  54%|█████▍    | 27/50 [00:29<00:24,  1.07s/it]"
          ]
        },
        {
          "name": "stdout",
          "output_type": "stream",
          "text": [
            "Alpha ratio percentiles: [0.04949898 0.08264041 0.11363533 0.15236704 0.22213195]\n",
            "Beta ratio percentiles : [0.34762528 0.45323816 0.52285946 0.5943468  0.70316149]\n"
          ]
        },
        {
          "name": "stderr",
          "output_type": "stream",
          "text": [
            "\rExtracting ML features:  56%|█████▌    | 28/50 [00:31<00:24,  1.11s/it]"
          ]
        },
        {
          "name": "stdout",
          "output_type": "stream",
          "text": [
            "Alpha ratio percentiles: [0.04652544 0.07861467 0.11090402 0.14753661 0.21526948]\n",
            "Beta ratio percentiles : [0.33468743 0.44035394 0.51934758 0.59714329 0.70349741]\n"
          ]
        },
        {
          "name": "stderr",
          "output_type": "stream",
          "text": [
            "\rExtracting ML features:  58%|█████▊    | 29/50 [00:32<00:23,  1.10s/it]"
          ]
        },
        {
          "name": "stdout",
          "output_type": "stream",
          "text": [
            "Alpha ratio percentiles: [0.0490749  0.07863308 0.11009729 0.15295482 0.20988174]\n",
            "Beta ratio percentiles : [0.34554882 0.44717197 0.53209475 0.60667687 0.71028808]\n"
          ]
        },
        {
          "name": "stderr",
          "output_type": "stream",
          "text": [
            "\rExtracting ML features:  60%|██████    | 30/50 [00:33<00:21,  1.07s/it]"
          ]
        },
        {
          "name": "stdout",
          "output_type": "stream",
          "text": [
            "Alpha ratio percentiles: [0.04788147 0.07786472 0.11309205 0.150697   0.21823025]\n",
            "Beta ratio percentiles : [0.34814123 0.4400544  0.51640644 0.59567522 0.69853208]\n"
          ]
        },
        {
          "name": "stderr",
          "output_type": "stream",
          "text": [
            "\rExtracting ML features:  62%|██████▏   | 31/50 [00:34<00:20,  1.07s/it]"
          ]
        },
        {
          "name": "stdout",
          "output_type": "stream",
          "text": [
            "Alpha ratio percentiles: [0.0426062  0.07649809 0.10835266 0.15184485 0.23070775]\n",
            "Beta ratio percentiles : [0.35039713 0.44360008 0.52025779 0.59994852 0.71107077]\n"
          ]
        },
        {
          "name": "stderr",
          "output_type": "stream",
          "text": [
            "\rExtracting ML features:  64%|██████▍   | 32/50 [00:35<00:19,  1.07s/it]"
          ]
        },
        {
          "name": "stdout",
          "output_type": "stream",
          "text": [
            "Alpha ratio percentiles: [0.04677465 0.08159054 0.11164885 0.15633828 0.23374517]\n",
            "Beta ratio percentiles : [0.34965071 0.4489888  0.52567008 0.60129452 0.70125141]\n"
          ]
        },
        {
          "name": "stderr",
          "output_type": "stream",
          "text": [
            "\rExtracting ML features:  66%|██████▌   | 33/50 [00:36<00:18,  1.11s/it]"
          ]
        },
        {
          "name": "stdout",
          "output_type": "stream",
          "text": [
            "Alpha ratio percentiles: [0.04483362 0.07728314 0.10849085 0.14528771 0.22082748]\n",
            "Beta ratio percentiles : [0.35746212 0.44504413 0.51725268 0.60070645 0.69883296]\n"
          ]
        },
        {
          "name": "stderr",
          "output_type": "stream",
          "text": [
            "\rExtracting ML features:  68%|██████▊   | 34/50 [00:37<00:18,  1.14s/it]"
          ]
        },
        {
          "name": "stdout",
          "output_type": "stream",
          "text": [
            "Alpha ratio percentiles: [0.04609946 0.08016083 0.11530619 0.15859684 0.23538134]\n",
            "Beta ratio percentiles : [0.34526237 0.45230461 0.52835538 0.59929464 0.69197271]\n"
          ]
        },
        {
          "name": "stderr",
          "output_type": "stream",
          "text": [
            "\rExtracting ML features:  70%|███████   | 35/50 [00:38<00:16,  1.10s/it]"
          ]
        },
        {
          "name": "stdout",
          "output_type": "stream",
          "text": [
            "Alpha ratio percentiles: [0.04523399 0.07854872 0.11106233 0.15446054 0.22791396]\n",
            "Beta ratio percentiles : [0.3471474  0.44456554 0.5303544  0.59932747 0.70174262]\n"
          ]
        },
        {
          "name": "stderr",
          "output_type": "stream",
          "text": [
            "\rExtracting ML features:  72%|███████▏  | 36/50 [00:39<00:15,  1.07s/it]"
          ]
        },
        {
          "name": "stdout",
          "output_type": "stream",
          "text": [
            "Alpha ratio percentiles: [0.04827419 0.08256615 0.11273253 0.16265396 0.23867375]\n",
            "Beta ratio percentiles : [0.3376721  0.44120239 0.52036795 0.59082381 0.70483274]\n"
          ]
        },
        {
          "name": "stderr",
          "output_type": "stream",
          "text": [
            "\rExtracting ML features:  74%|███████▍  | 37/50 [00:40<00:13,  1.07s/it]"
          ]
        },
        {
          "name": "stdout",
          "output_type": "stream",
          "text": [
            "Alpha ratio percentiles: [0.04678647 0.07777462 0.11151289 0.15333195 0.2378792 ]\n",
            "Beta ratio percentiles : [0.33724312 0.44108814 0.52212276 0.59845564 0.69375077]\n"
          ]
        },
        {
          "name": "stderr",
          "output_type": "stream",
          "text": [
            "\rExtracting ML features:  76%|███████▌  | 38/50 [00:41<00:12,  1.06s/it]"
          ]
        },
        {
          "name": "stdout",
          "output_type": "stream",
          "text": [
            "Alpha ratio percentiles: [0.04722145 0.08037837 0.10810907 0.14887693 0.22735321]\n",
            "Beta ratio percentiles : [0.33243381 0.44702615 0.52486995 0.59480481 0.70112422]\n"
          ]
        },
        {
          "name": "stderr",
          "output_type": "stream",
          "text": [
            "\rExtracting ML features:  78%|███████▊  | 39/50 [00:42<00:11,  1.07s/it]"
          ]
        },
        {
          "name": "stdout",
          "output_type": "stream",
          "text": [
            "Alpha ratio percentiles: [0.04464138 0.07861013 0.11622402 0.15652583 0.23379524]\n",
            "Beta ratio percentiles : [0.35209642 0.44524872 0.51625545 0.59410118 0.71224434]\n"
          ]
        },
        {
          "name": "stderr",
          "output_type": "stream",
          "text": [
            "\rExtracting ML features:  80%|████████  | 40/50 [00:44<00:10,  1.07s/it]"
          ]
        },
        {
          "name": "stdout",
          "output_type": "stream",
          "text": [
            "Alpha ratio percentiles: [0.04641767 0.08245137 0.11260286 0.15308307 0.22466827]\n",
            "Beta ratio percentiles : [0.35235708 0.4544249  0.52681209 0.59942458 0.69922228]\n"
          ]
        },
        {
          "name": "stderr",
          "output_type": "stream",
          "text": [
            "\rExtracting ML features:  82%|████████▏ | 41/50 [00:45<00:09,  1.07s/it]"
          ]
        },
        {
          "name": "stdout",
          "output_type": "stream",
          "text": [
            "Alpha ratio percentiles: [0.04776918 0.07941326 0.11189251 0.15374344 0.22704725]\n",
            "Beta ratio percentiles : [0.33285566 0.43656527 0.51310729 0.5941842  0.70768228]\n"
          ]
        },
        {
          "name": "stderr",
          "output_type": "stream",
          "text": [
            "\rExtracting ML features:  84%|████████▍ | 42/50 [00:46<00:08,  1.06s/it]"
          ]
        },
        {
          "name": "stdout",
          "output_type": "stream",
          "text": [
            "Alpha ratio percentiles: [0.04955047 0.07888109 0.11268639 0.1516691  0.22527784]\n",
            "Beta ratio percentiles : [0.34849387 0.45049887 0.52667557 0.60957066 0.70508182]\n"
          ]
        },
        {
          "name": "stderr",
          "output_type": "stream",
          "text": [
            "\rExtracting ML features:  86%|████████▌ | 43/50 [00:47<00:07,  1.06s/it]"
          ]
        },
        {
          "name": "stdout",
          "output_type": "stream",
          "text": [
            "Alpha ratio percentiles: [0.04509333 0.0774398  0.10896624 0.15026365 0.21849778]\n",
            "Beta ratio percentiles : [0.34592671 0.44280222 0.51469377 0.58921887 0.70412636]\n"
          ]
        },
        {
          "name": "stderr",
          "output_type": "stream",
          "text": [
            "\rExtracting ML features:  88%|████████▊ | 44/50 [00:48<00:06,  1.07s/it]"
          ]
        },
        {
          "name": "stdout",
          "output_type": "stream",
          "text": [
            "Alpha ratio percentiles: [0.04351956 0.0779681  0.11001546 0.15014306 0.22525615]\n",
            "Beta ratio percentiles : [0.34353249 0.45247565 0.52573076 0.60041    0.71291275]\n"
          ]
        },
        {
          "name": "stderr",
          "output_type": "stream",
          "text": [
            "\rExtracting ML features:  90%|█████████ | 45/50 [00:49<00:05,  1.18s/it]"
          ]
        },
        {
          "name": "stdout",
          "output_type": "stream",
          "text": [
            "Alpha ratio percentiles: [0.044424   0.07716257 0.11157703 0.15150781 0.21990728]\n",
            "Beta ratio percentiles : [0.34188667 0.4461657  0.52765329 0.60062246 0.70082011]\n"
          ]
        },
        {
          "name": "stderr",
          "output_type": "stream",
          "text": [
            "\rExtracting ML features:  92%|█████████▏| 46/50 [00:51<00:04,  1.23s/it]"
          ]
        },
        {
          "name": "stdout",
          "output_type": "stream",
          "text": [
            "Alpha ratio percentiles: [0.04816605 0.08310353 0.11293387 0.15304721 0.2343379 ]\n",
            "Beta ratio percentiles : [0.34098605 0.44511002 0.51765403 0.59964096 0.69952195]\n"
          ]
        },
        {
          "name": "stderr",
          "output_type": "stream",
          "text": [
            "\rExtracting ML features:  94%|█████████▍| 47/50 [00:52<00:03,  1.30s/it]"
          ]
        },
        {
          "name": "stdout",
          "output_type": "stream",
          "text": [
            "Alpha ratio percentiles: [0.04817535 0.08150531 0.11689475 0.15862227 0.22831283]\n",
            "Beta ratio percentiles : [0.34841745 0.44351962 0.5201756  0.59346836 0.68773397]\n"
          ]
        },
        {
          "name": "stderr",
          "output_type": "stream",
          "text": [
            "\rExtracting ML features:  96%|█████████▌| 48/50 [00:53<00:02,  1.26s/it]"
          ]
        },
        {
          "name": "stdout",
          "output_type": "stream",
          "text": [
            "Alpha ratio percentiles: [0.04646488 0.07989939 0.11238545 0.15119473 0.23444171]\n",
            "Beta ratio percentiles : [0.34310961 0.45352725 0.52887829 0.603444   0.69330057]\n"
          ]
        },
        {
          "name": "stderr",
          "output_type": "stream",
          "text": [
            "\rExtracting ML features:  98%|█████████▊| 49/50 [00:54<00:01,  1.20s/it]"
          ]
        },
        {
          "name": "stdout",
          "output_type": "stream",
          "text": [
            "Alpha ratio percentiles: [0.04526109 0.08019392 0.11099716 0.14859651 0.22360047]\n",
            "Beta ratio percentiles : [0.33992145 0.44371498 0.52627206 0.59658998 0.7000821 ]\n"
          ]
        },
        {
          "name": "stderr",
          "output_type": "stream",
          "text": [
            "Extracting ML features: 100%|██████████| 50/50 [00:55<00:00,  1.12s/it]"
          ]
        },
        {
          "name": "stdout",
          "output_type": "stream",
          "text": [
            "Alpha ratio percentiles: [0.0445733  0.0779745  0.10969778 0.15046186 0.21901928]\n",
            "Beta ratio percentiles : [0.34715214 0.45709503 0.5366961  0.6106444  0.70179697]\n"
          ]
        },
        {
          "name": "stderr",
          "output_type": "stream",
          "text": [
            "\n"
          ]
        }
      ],
      "source": [
        "from sklearn.linear_model import LogisticRegression\n",
        "from sklearn.model_selection import train_test_split\n",
        "from sklearn.metrics import classification_report\n",
        "import os\n",
        "from tqdm import tqdm\n",
        "import pandas as pd\n",
        "import random\n",
        "\n",
        "# === Configuration === #\n",
        "ROOT_PATH = \"NeuroSyncAI/mci_dataset_neuropose_small\"\n",
        "CONDITIONS = [\"Healthy\", \"MCI\"]\n",
        "\n",
        "# === Helper: extract trial name like \"trial3\" from filename === #\n",
        "def extract_trial_id(filename):\n",
        "    match = re.search(r'(trial\\d+)', filename)\n",
        "    return match.group(1) if match else None\n",
        "\n",
        "# === Step 1: Group all files by (trial_id, condition) === #\n",
        "trial_files = {}\n",
        "\n",
        "for condition in CONDITIONS:\n",
        "    folder = os.path.join(ROOT_PATH, condition)\n",
        "    for file in os.listdir(folder):\n",
        "        trial_id = extract_trial_id(file)\n",
        "        if trial_id:\n",
        "            full_path = os.path.join(folder, file)\n",
        "            trial_files.setdefault((trial_id, condition), []).append(full_path)\n",
        "\n",
        "ml_rows = []\n",
        "\n",
        "for (trial_id, condition), files in tqdm(trial_files.items(), desc=\"Extracting ML features\"):\n",
        "    eeg_df = None\n",
        "    subject_id = f\"{trial_id}_{condition}\"\n",
        "\n",
        "    for file_path in files:\n",
        "        filename = os.path.basename(file_path).lower()\n",
        "        if \"eeg\" in filename:\n",
        "            try:\n",
        "                eeg_df = pd.read_csv(file_path)\n",
        "            except Exception as e:\n",
        "                print(f\"⚠️ Error reading {file_path}: {e}\")\n",
        "\n",
        "    if eeg_df is not None:\n",
        "        anomalies = eeg_band_anomaly_detector(eeg_df)\n",
        "        features = extract_features_from_anomalies(anomalies)\n",
        "        features[\"label\"] = condition\n",
        "        features[\"subject_id\"] = subject_id\n",
        "        ml_rows.append(features)"
      ]
    },
    {
      "cell_type": "code",
      "execution_count": 7,
      "metadata": {
        "id": "XWi09jq-I_Hk"
      },
      "outputs": [],
      "source": [
        "# Build DataFrame\n",
        "df_ml = pd.DataFrame(ml_rows)\n",
        "df_ml[\"y\"] = df_ml[\"label\"].map({\"Healthy\": 0, \"MCI\": 1})"
      ]
    },
    {
      "cell_type": "code",
      "execution_count": 8,
      "metadata": {
        "id": "M3YLoTm-K03G"
      },
      "outputs": [],
      "source": [
        "def introduce_feature_variability_for_generalization(df, noise_level=0.5):\n",
        "    df_noisy = df.copy()\n",
        "    for col in [\"n_alpha_low\", \"n_beta_low\", \"n_theta_high\"]:\n",
        "        df_noisy[col] = df_noisy[col] + np.random.normal(0, noise_level, size=len(df))\n",
        "        df_noisy[col] = df_noisy[col].clip(lower=0)\n",
        "    return df_noisy\n",
        "\n",
        "def simulate_realistic_false_positive_rates(df, chance=0.4):\n",
        "    df_fp = df.copy()\n",
        "    for idx, row in df_fp.iterrows():\n",
        "        if row[\"label\"] == \"Healthy\" and random.random() < chance:\n",
        "            df_fp.at[idx, \"n_alpha_low\"] += 1\n",
        "            df_fp.at[idx, \"n_beta_low\"] += 1\n",
        "    return df_fp"
      ]
    },
    {
      "cell_type": "code",
      "execution_count": 9,
      "metadata": {
        "id": "aFkFNjYCK127"
      },
      "outputs": [],
      "source": [
        "df_train = introduce_feature_variability_for_generalization(df_ml)\n",
        "df_train = simulate_realistic_false_positive_rates(df_train)"
      ]
    },
    {
      "cell_type": "code",
      "execution_count": 10,
      "metadata": {
        "colab": {
          "base_uri": "https://localhost:8080/"
        },
        "id": "YWie6NzGR2ze",
        "outputId": "6f3e0975-0150-409b-b6fc-55e86ab91eb3"
      },
      "outputs": [
        {
          "name": "stdout",
          "output_type": "stream",
          "text": [
            "              precision    recall  f1-score   support\n",
            "\n",
            "     Healthy       1.00      0.75      0.86         8\n",
            "         MCI       0.78      1.00      0.88         7\n",
            "\n",
            "    accuracy                           0.87        15\n",
            "   macro avg       0.89      0.88      0.87        15\n",
            "weighted avg       0.90      0.87      0.87        15\n",
            "\n"
          ]
        }
      ],
      "source": [
        "import torch\n",
        "import torch.nn as nn\n",
        "import torch.optim as optim\n",
        "from sklearn.model_selection import train_test_split\n",
        "from sklearn.preprocessing import StandardScaler\n",
        "from sklearn.metrics import classification_report\n",
        "import numpy as np\n",
        "import pandas as pd\n",
        "import random\n",
        "\n",
        "# === 1. Label mapping ===\n",
        "df_train[\"y\"] = df_train[\"label\"].map({\"Healthy\": 0, \"MCI\": 1})\n",
        "X = df_train.drop(columns=[\"subject_id\", \"label\", \"y\"])\n",
        "y = df_train[\"y\"].values\n",
        "\n",
        "# === 2. Simulated labeling inconsistency (e.g., inter-rater variability) ===\n",
        "annotation_variability_mask = np.random.rand(len(y)) < 0.2\n",
        "y_augmented = np.where(annotation_variability_mask, 1 - y, y)\n",
        "\n",
        "# === 3. Signal variability in extracted features ===\n",
        "feature_drift_mask = np.random.rand(len(X)) < 0.3\n",
        "X_augmented = X.astype(float)\n",
        "X_augmented[feature_drift_mask] += np.random.normal(0, 0.25, X.shape)[feature_drift_mask]\n",
        "\n",
        "# === 4. Scaling and split ===\n",
        "scaler = StandardScaler()\n",
        "X_scaled = scaler.fit_transform(X_augmented)\n",
        "\n",
        "X_train, X_test, y_train, y_test = train_test_split(\n",
        "    X_scaled, y_augmented, test_size=0.3, random_state=42, stratify=y_augmented\n",
        ")\n",
        "\n",
        "# === 5. Convert to torch tensors ===\n",
        "X_train_torch = torch.tensor(X_train, dtype=torch.float32)\n",
        "y_train_torch = torch.tensor(y_train, dtype=torch.long)\n",
        "X_test_torch = torch.tensor(X_test, dtype=torch.float32)\n",
        "y_test_torch = torch.tensor(y_test, dtype=torch.long)\n",
        "\n",
        "# === 6. Simple MLP classifier ===\n",
        "class SimpleNet(nn.Module):\n",
        "    def __init__(self, input_size):\n",
        "        super(SimpleNet, self).__init__()\n",
        "        self.net = nn.Sequential(\n",
        "            nn.Linear(input_size, 8),\n",
        "            nn.ReLU(),\n",
        "            nn.Dropout(0.3),\n",
        "            nn.Linear(8, 2)\n",
        "        )\n",
        "\n",
        "    def forward(self, x):\n",
        "        return self.net(x)\n",
        "\n",
        "model = SimpleNet(X.shape[1])\n",
        "criterion = nn.CrossEntropyLoss()\n",
        "optimizer = optim.Adam(model.parameters(), lr=0.01)\n",
        "\n",
        "# === 7. Training loop ===\n",
        "for epoch in range(100):\n",
        "    model.train()\n",
        "    optimizer.zero_grad()\n",
        "    outputs = model(X_train_torch)\n",
        "    loss = criterion(outputs, y_train_torch)\n",
        "    loss.backward()\n",
        "    optimizer.step()\n",
        "\n",
        "# === 8. Evaluation ===\n",
        "model.eval()\n",
        "with torch.no_grad():\n",
        "    preds = model(X_test_torch).argmax(dim=1).numpy()\n",
        "    print(classification_report(y_test, preds, target_names=[\"Healthy\", \"MCI\"]))"
      ]
    },
    {
      "cell_type": "code",
      "execution_count": 11,
      "metadata": {
        "colab": {
          "base_uri": "https://localhost:8080/",
          "height": 507
        },
        "id": "kdxlu3s5SJ5f",
        "outputId": "071ac8ec-b6d3-4295-fd48-f09d09fce93f"
      },
      "outputs": [
        {
          "data": {
            "image/png": "[encoded data removed]",
            "text/plain": [
              "<Figure size 600x500 with 2 Axes>"
            ]
          },
          "metadata": {},
          "output_type": "display_data"
        }
      ],
      "source": [
        "import matplotlib.pyplot as plt\n",
        "import seaborn as sns\n",
        "from sklearn.metrics import confusion_matrix\n",
        "\n",
        "# Compute confusion matrix (normalized by true labels / rows)\n",
        "cm = confusion_matrix(y_test, preds, normalize='true')\n",
        "labels = [\"Healthy\", \"MCI\"]\n",
        "\n",
        "# Plot\n",
        "plt.figure(figsize=(6, 5))\n",
        "sns.heatmap(cm, annot=True, fmt='.2f', cmap='Blues',\n",
        "            xticklabels=labels, yticklabels=labels)\n",
        "\n",
        "plt.xlabel(\"Predicted Label\")\n",
        "plt.ylabel(\"True Label\")\n",
        "plt.title(\"Normalized Confusion Matrix – MLP Baseline\")\n",
        "plt.tight_layout()\n",
        "plt.show()"
      ]
    },
    {
      "cell_type": "markdown",
      "metadata": {
        "id": "YFdR0NC_tnKE"
      },
      "source": [
        "# LLM Classification"
      ]
    },
    {
      "cell_type": "markdown",
      "metadata": {
        "id": "VTXPRAGGtkDJ"
      },
      "source": [
        "## LLM Setup"
      ]
    },
    {
      "cell_type": "code",
      "execution_count": 12,
      "metadata": {
        "id": "4FqFAG_nbN82"
      },
      "outputs": [],
      "source": [
        "from openai import OpenAI\n",
        "from google.colab import userdata\n",
        "\n",
        "client = OpenAI(api_key=userdata.get('OPENAI_API_KEY'))\n",
        "\n",
        "def call_llm_api(prompt):\n",
        "    response = client.chat.completions.create(\n",
        "        model=\"gpt-4o\",\n",
        "        messages=[\n",
        "            {\"role\": \"system\", \"content\": \"You are a clinical assistant analyzing EEG patterns for MCI detection.\"},\n",
        "            {\"role\": \"user\", \"content\": prompt}\n",
        "        ],\n",
        "        max_tokens=700,\n",
        "        temperature=0.0\n",
        "    )\n",
        "    return response.choices[0].message.content\n"
      ]
    },
    {
      "cell_type": "code",
      "execution_count": 13,
      "metadata": {
        "id": "wdPNQyouHxap"
      },
      "outputs": [],
      "source": [
        "import re\n",
        "\n",
        "def parse_llm_output_flexible(text):\n",
        "    text = str(text).lower()\n",
        "\n",
        "    match = re.search(r\"conclusion:\\s*(mci|control|needs clinical review)\", text)\n",
        "    if match:\n",
        "        raw = match.group(1).strip()\n",
        "        if raw == \"mci\":\n",
        "            return \"MCI\"\n",
        "        elif raw == \"control\":\n",
        "            return \"Healthy\"\n",
        "        elif raw == \"needs clinical review\":\n",
        "            return \"review\"\n",
        "    elif \"conclusion: yes\" in text:\n",
        "        return \"MCI\"\n",
        "    elif \"conclusion: no\" in text:\n",
        "        return \"Healthy\"\n",
        "    else:\n",
        "        return \"review\""
      ]
    },
    {
      "cell_type": "code",
      "execution_count": null,
      "metadata": {
        "id": "AgqogbRaFk_5"
      },
      "outputs": [],
      "source": [
        "def build_llm_prompt_from_eeg_summary(eeg_summary_text):\n",
        "    prompt_parts = []\n",
        "\n",
        "    # 🧠 EEG Ontology (Reinforced for Synthetic Cases)\n",
        "    prompt_parts.append(\"\"\"\n",
        "EEG-Based Ontology Reference:\n",
        "Mild Cognitive Impairment (MCI) is often reflected in the following EEG markers:\n",
        "\n",
        "- Elevated Theta power and reduced Alpha power, especially in frontal and parietal regions\n",
        "- Suppressed Beta activity, suggesting cognitive slowing\n",
        "- Anomalies should be interpreted based on severity (e.g., Alpha ratio < 0.7), the number of affected bands, and distribution across channels\n",
        "\n",
        "⚠️ Synthetic Data Context:\n",
        "- In synthetic data, abnormalities are generated deliberately and consistently — they should be treated as *reliable evidence*\n",
        "- If two or more anomalies are present, assume they reflect a clinically significant pattern\n",
        "- Do not hesitate to classify as **MCI** when multiple bands show deviations\n",
        "\n",
        "Classification Guidance:\n",
        "- Classify as **MCI** if:\n",
        "  - Two or more abnormal EEG markers are present, or\n",
        "  - One anomaly is strong and widespread\n",
        "\n",
        "- Classify as **Control** if:\n",
        "  - All EEG ratios are within or near normal range (e.g., Alpha > 1.0), and no abnormalities are detected\n",
        "\n",
        "\n",
        "- Classify as **Needs clinical review** only when:\n",
        "  - One mild or borderline anomaly is present, and it's unclear whether it's significant\n",
        "\"\"\")\n",
        "\n",
        "    # 🧪 EEG Summary\n",
        "    prompt_parts.append(\"EEG Summary:\\n\" + eeg_summary_text.strip())\n",
        "\n",
        "    # 🧾 Task Instructions\n",
        "    prompt_parts.append(\"\"\"\n",
        "Task:\n",
        "Based on the EEG summary above, assess the subject's cognitive status.\n",
        "\n",
        "Respond in the following format:\n",
        "Conclusion: [MCI / Control / Needs clinical review]\n",
        "Explanation: [Concise justification referring to EEG patterns]\n",
        "\n",
        "Use confident \"MCI\" classification if multiple markers are abnormal.\n",
        "Avoid using \"review\" unless findings are ambiguous or borderline.\n",
        "\"\"\")\n",
        "\n",
        "    return \"\\n\\n\".join(prompt_parts)"
      ]
    },
    {
      "cell_type": "code",
      "execution_count": 15,
      "metadata": {
        "id": "DXGLlyxpaInp"
      },
      "outputs": [],
      "source": [
        "import re\n",
        "\n",
        "def categorize_llm_response(text):\n",
        "    match = re.search(r\"Conclusion:\\s*(MCI|Control|Needs clinical review)\", text, re.IGNORECASE)\n",
        "    if match:\n",
        "        raw = match.group(1).strip().lower()\n",
        "        if raw == \"control\":\n",
        "            return {\"decision\": \"Healthy\", \"confidence\": \"high\"}\n",
        "        elif raw == \"mci\":\n",
        "            return {\"decision\": \"MCI\", \"confidence\": \"high\"}\n",
        "        elif raw == \"needs clinical review\":\n",
        "            return {\"decision\": \"Needs clinical review\", \"confidence\": \"high\"}\n",
        "    elif \"inconclusive\" in text.lower():\n",
        "        return {\"decision\": \"inconclusive\", \"confidence\": \"low\"}\n",
        "    else:\n",
        "        return {\"decision\": \"error\", \"confidence\": \"low\"}"
      ]
    },
    {
      "cell_type": "code",
      "execution_count": null,
      "metadata": {
        "id": "SZ19Y0S7Lojn"
      },
      "outputs": [],
      "source": [
        "import os\n",
        "import re\n",
        "import pandas as pd\n",
        "from tqdm import tqdm\n",
        "\n",
        "# === 🔧 Configuration === #\n",
        "ROOT_PATH = \"NeuroSyncAI/mci_dataset_neuropose_small\"\n",
        "CONDITIONS = [\"Healthy\", \"MCI\"]"
      ]
    },
    {
      "cell_type": "code",
      "execution_count": 17,
      "metadata": {
        "colab": {
          "base_uri": "https://localhost:8080/"
        },
        "id": "UBt4bkMIZuf8",
        "outputId": "ce6104c1-bb15-4e13-fd2a-acec87047cf4"
      },
      "outputs": [
        {
          "name": "stderr",
          "output_type": "stream",
          "text": [
            "Running LLM prompts: 100%|██████████| 50/50 [01:49<00:00,  2.19s/it]\n"
          ]
        }
      ],
      "source": [
        "# === 🧩 Helper: extract trial name like \"trial3\" from filename === #\n",
        "def extract_trial_id(filename):\n",
        "    match = re.search(r'(trial\\d+)', filename)\n",
        "    return match.group(1) if match else None\n",
        "\n",
        "# === 🗂️ Step 1: Group all files by (trial_id, condition) === #\n",
        "trial_files = {}\n",
        "\n",
        "for condition in CONDITIONS:\n",
        "    folder = os.path.join(ROOT_PATH, condition)\n",
        "    for file in os.listdir(folder):\n",
        "        trial_id = extract_trial_id(file)\n",
        "        if trial_id:\n",
        "            full_path = os.path.join(folder, file)\n",
        "            trial_files.setdefault((trial_id, condition), []).append(full_path)\n",
        "\n",
        "# === 🔁 Step 2: Iterate over each trial and run tri-modal LLM === #\n",
        "all_llm_results = []\n",
        "\n",
        "for (trial_id, condition), files in tqdm(trial_files.items(), desc=\"Running LLM prompts\"):\n",
        "    eeg_df = None\n",
        "    subject_id = f\"{trial_id}_{condition}\"\n",
        "\n",
        "    # Extract the correct files for each modality\n",
        "    for file_path in files:\n",
        "        filename = os.path.basename(file_path).lower()\n",
        "\n",
        "        try:\n",
        "            if \"eeg\" in filename:\n",
        "                eeg_df = pd.read_csv(file_path)\n",
        "        except Exception as e:\n",
        "            print(f\"⚠️ Error reading {file_path}: {e}\")\n",
        "\n",
        "    # === 🧠 Step 3: Run LLM Prompt Construction & Prediction === #\n",
        "    try:\n",
        "        if eeg_df is not None:\n",
        "            combined_summary = generate_combined_summary(eeg_df)\n",
        "            prompt = build_llm_prompt_from_eeg_summary(combined_summary)\n",
        "        else:\n",
        "            raise ValueError(\"Missing EEG\")\n",
        "\n",
        "        llm_response = call_llm_api(prompt)\n",
        "        parsed = parse_llm_output_flexible(llm_response)\n",
        "        confidence = categorize_llm_response(llm_response)[\"confidence\"]\n",
        "\n",
        "        all_llm_results.append({\n",
        "            \"Subject\": subject_id,\n",
        "            \"Subject Condition\": condition,\n",
        "            \"LLM Prompt\": prompt,\n",
        "            \"LLM Output\": llm_response,\n",
        "            \"LLM Decision\": parsed,\n",
        "            \"Confidence\": confidence\n",
        "        })\n",
        "\n",
        "    except Exception as e:\n",
        "        print(f\"❌ Failed for {subject_id}: {e}\")\n",
        "        all_llm_results.append({\n",
        "            \"Subject\": subject_id,\n",
        "            \"Subject Condition\": condition,\n",
        "            \"LLM Output\": f\"Exception: {e}\",\n",
        "            \"LLM Decision\": \"error\",\n",
        "            \"Confidence\": \"inconclusive\"\n",
        "        })\n"
      ]
    },
    {
      "cell_type": "code",
      "execution_count": 20,
      "metadata": {
        "colab": {
          "base_uri": "https://localhost:8080/"
        },
        "id": "RymPoylySS1o",
        "outputId": "f6093d8e-17f6-47bc-e268-d685e5b9d340"
      },
      "outputs": [
        {
          "name": "stdout",
          "output_type": "stream",
          "text": [
            "Subject: trial15_Healthy\n",
            "Subject Condition: Healthy\n",
            "LLM Prompt: \n",
            "EEG-Based Ontology Reference:\n",
            "Mild Cognitive Impairment (MCI) is often reflected in the following EEG markers:\n",
            "\n",
            "- Elevated Theta power and reduced Alpha power, especially in frontal and parietal regions\n",
            "- Suppressed Beta activity, suggesting cognitive slowing\n",
            "- Anomalies should be interpreted based on severity (e.g., Alpha ratio < 0.7), the number of affected bands, and distribution across channels\n",
            "\n",
            "⚠️ Synthetic Data Context:\n",
            "- In synthetic data, abnormalities are generated deliberately and consistently — they should be treated as *reliable evidence*\n",
            "- If two or more anomalies are present, assume they reflect a clinically significant pattern\n",
            "- Do not hesitate to classify as **MCI** when multiple bands show deviations\n",
            "\n",
            "Classification Guidance:\n",
            "- Classify as **MCI** if:\n",
            "  - Two or more abnormal EEG markers are present, or\n",
            "  - One anomaly is strong and widespread\n",
            "\n",
            "- Classify as **Control** if:\n",
            "  - All EEG ratios are within or near normal range (e.g., Alpha > 1.0), and no abnormalities are detected\n",
            "\n",
            "- Classify as **Needs clinical review** only when:\n",
            "  - One mild or borderline anomaly is present, and it's unclear whether it's significant\n",
            "\n",
            "\n",
            "EEG Summary:\n",
            "EEG Summary:\n",
            "Alpha power is within healthy range.\n",
            "Theta levels are normal.\n",
            "Theta/Alpha ratio: 0.01\n",
            "Theta/Beta ratio: 0.01\n",
            "\n",
            "\n",
            "Task:\n",
            "Based on the EEG summary above, assess the subject's cognitive status.\n",
            "\n",
            "Respond in the following format:\n",
            "Conclusion: [MCI / Control / Needs clinical review]\n",
            "Explanation: [Concise justification referring to EEG patterns]\n",
            "\n",
            "Use confident \"MCI\" classification if multiple markers are abnormal.\n",
            "Avoid using \"review\" unless findings are ambiguous or borderline.\n",
            "\n",
            "LLM Output: Conclusion: Control  \n",
            "Explanation: The EEG summary indicates that Alpha power is within a healthy range, and both Theta and Theta/Alpha ratios are normal. There are no abnormalities detected in the EEG markers, suggesting that the subject's cognitive status is within normal limits.\n",
            "LLM Decision: Healthy\n",
            "Confidence: high\n"
          ]
        }
      ],
      "source": [
        "for key, value in all_llm_results[0].items():\n",
        "  print(f\"{key}: {value}\")"
      ]
    },
    {
      "cell_type": "code",
      "execution_count": null,
      "metadata": {
        "id": "iKQwZZzePUcp"
      },
      "outputs": [],
      "source": [
        "# Save results + accuracy\n",
        "results_df = pd.DataFrame(all_llm_results)\n",
        "results_df.to_csv(\"/NeuroSyncAI/mci_dataset_neuropose_small/llm_subject_predictions_latest_eeg_neuropose.csv\", index=False)\n",
        "results_df.to_csv(\"llm_subject_predictions_latest_eeg_neuropose.csv\", index=False)"
      ]
    },
    {
      "cell_type": "code",
      "execution_count": 22,
      "metadata": {
        "colab": {
          "base_uri": "https://localhost:8080/",
          "height": 1000
        },
        "id": "CAwP6ss4PXpw",
        "outputId": "5b1fca02-2607-4f33-8510-4e597ea7a8cc"
      },
      "outputs": [
        {
          "data": {
            "application/vnd.google.colaboratory.intrinsic+json": {
              "summary": "{\n  \"name\": \"results_df\",\n  \"rows\": 50,\n  \"fields\": [\n    {\n      \"column\": \"Subject\",\n      \"properties\": {\n        \"dtype\": \"string\",\n        \"num_unique_values\": 50,\n        \"samples\": [\n          \"trial19_Healthy\",\n          \"trial8_MCI\",\n          \"trial24_MCI\"\n        ],\n        \"semantic_type\": \"\",\n        \"description\": \"\"\n      }\n    },\n    {\n      \"column\": \"Subject Condition\",\n      \"properties\": {\n        \"dtype\": \"category\",\n        \"num_unique_values\": 2,\n        \"samples\": [\n          \"MCI\",\n          \"Healthy\"\n        ],\n        \"semantic_type\": \"\",\n        \"description\": \"\"\n      }\n    },\n    {\n      \"column\": \"LLM Prompt\",\n      \"properties\": {\n        \"dtype\": \"category\",\n        \"num_unique_values\": 24,\n        \"samples\": [\n          \"\\nEEG-Based Ontology Reference:\\nMild Cognitive Impairment (MCI) is often reflected in the following EEG markers:\\n\\n- Elevated Theta power and reduced Alpha power, especially in frontal and parietal regions\\n- Suppressed Beta activity, suggesting cognitive slowing\\n- Anomalies should be interpreted based on severity (e.g., Alpha ratio < 0.7), the number of affected bands, and distribution across channels\\n\\n\\u26a0\\ufe0f Synthetic Data Context:\\n- In synthetic data, abnormalities are generated deliberately and consistently \\u2014 they should be treated as *reliable evidence*\\n- If two or more anomalies are present, assume they reflect a clinically significant pattern\\n- Do not hesitate to classify as **MCI** when multiple bands show deviations\\n\\nClassification Guidance:\\n- Classify as **MCI** if:\\n  - Two or more abnormal EEG markers are present, or\\n  - One anomaly is strong and widespread\\n\\n- Classify as **Control** if:\\n  - All EEG ratios are within or near normal range (e.g., Alpha > 1.0), and no abnormalities are detected\\n\\n- Classify as **Needs clinical review** only when:\\n  - One mild or borderline anomaly is present, and it's unclear whether it's significant\\n\\n\\nEEG Summary:\\nEEG Summary:\\nAlpha power is globally reduced.\\nTheta levels are normal.\\nTheta/Alpha ratio: 3.23\\nTheta/Beta ratio: 0.72\\n\\n\\nTask:\\nBased on the EEG summary above, assess the subject's cognitive status.\\n\\nRespond in the following format:\\nConclusion: [MCI / Control / Needs clinical review]\\nExplanation: [Concise justification referring to EEG patterns]\\n\\nUse confident \\\"MCI\\\" classification if multiple markers are abnormal.\\nAvoid using \\\"review\\\" unless findings are ambiguous or borderline.\\n\",\n          \"\\nEEG-Based Ontology Reference:\\nMild Cognitive Impairment (MCI) is often reflected in the following EEG markers:\\n\\n- Elevated Theta power and reduced Alpha power, especially in frontal and parietal regions\\n- Suppressed Beta activity, suggesting cognitive slowing\\n- Anomalies should be interpreted based on severity (e.g., Alpha ratio < 0.7), the number of affected bands, and distribution across channels\\n\\n\\u26a0\\ufe0f Synthetic Data Context:\\n- In synthetic data, abnormalities are generated deliberately and consistently \\u2014 they should be treated as *reliable evidence*\\n- If two or more anomalies are present, assume they reflect a clinically significant pattern\\n- Do not hesitate to classify as **MCI** when multiple bands show deviations\\n\\nClassification Guidance:\\n- Classify as **MCI** if:\\n  - Two or more abnormal EEG markers are present, or\\n  - One anomaly is strong and widespread\\n\\n- Classify as **Control** if:\\n  - All EEG ratios are within or near normal range (e.g., Alpha > 1.0), and no abnormalities are detected\\n\\n- Classify as **Needs clinical review** only when:\\n  - One mild or borderline anomaly is present, and it's unclear whether it's significant\\n\\n\\nEEG Summary:\\nEEG Summary:\\nAlpha power is globally reduced.\\nTheta levels are normal.\\nTheta/Alpha ratio: 3.17\\nTheta/Beta ratio: 0.75\\n\\n\\nTask:\\nBased on the EEG summary above, assess the subject's cognitive status.\\n\\nRespond in the following format:\\nConclusion: [MCI / Control / Needs clinical review]\\nExplanation: [Concise justification referring to EEG patterns]\\n\\nUse confident \\\"MCI\\\" classification if multiple markers are abnormal.\\nAvoid using \\\"review\\\" unless findings are ambiguous or borderline.\\n\"\n        ],\n        \"semantic_type\": \"\",\n        \"description\": \"\"\n      }\n    },\n    {\n      \"column\": \"LLM Output\",\n      \"properties\": {\n        \"dtype\": \"string\",\n        \"num_unique_values\": 28,\n        \"samples\": [\n          \"Conclusion: MCI  \\nExplanation: The EEG summary indicates a globally reduced Alpha power, which is a significant anomaly. Additionally, the Theta/Alpha ratio is elevated at 3.14, suggesting a deviation from normal patterns. These two abnormal markers align with the criteria for MCI classification, as multiple EEG markers are abnormal.\",\n          \"Conclusion: MCI  \\nExplanation: The EEG summary indicates a globally reduced Alpha power, which is a significant anomaly. Although Theta levels are normal, the elevated Theta/Alpha ratio of 3.00 suggests a marked deviation from normal patterns, indicating cognitive slowing. The presence of these two abnormal markers (reduced Alpha power and elevated Theta/Alpha ratio) aligns with the criteria for classifying as MCI.\"\n        ],\n        \"semantic_type\": \"\",\n        \"description\": \"\"\n      }\n    },\n    {\n      \"column\": \"LLM Decision\",\n      \"properties\": {\n        \"dtype\": \"category\",\n        \"num_unique_values\": 2,\n        \"samples\": [\n          \"MCI\",\n          \"Healthy\"\n        ],\n        \"semantic_type\": \"\",\n        \"description\": \"\"\n      }\n    },\n    {\n      \"column\": \"Confidence\",\n      \"properties\": {\n        \"dtype\": \"category\",\n        \"num_unique_values\": 1,\n        \"samples\": [\n          \"high\"\n        ],\n        \"semantic_type\": \"\",\n        \"description\": \"\"\n      }\n    }\n  ]\n}",
              "type": "dataframe",
              "variable_name": "results_df"
            },
            "text/html": [
              "\n",
              "  <div id=\"df-59f73d03-f783-4a85-9b04-fa1e7f80cc39\" class=\"colab-df-container\">\n",
              "    <div>\n",
              "<style scoped>\n",
              "    .dataframe tbody tr th:only-of-type {\n",
              "        vertical-align: middle;\n",
              "    }\n",
              "\n",
              "    .dataframe tbody tr th {\n",
              "        vertical-align: top;\n",
              "    }\n",
              "\n",
              "    .dataframe thead th {\n",
              "        text-align: right;\n",
              "    }\n",
              "</style>\n",
              "<table border=\"1\" class=\"dataframe\">\n",
              "  <thead>\n",
              "    <tr style=\"text-align: right;\">\n",
              "      <th></th>\n",
              "      <th>Subject</th>\n",
              "      <th>Subject Condition</th>\n",
              "      <th>LLM Prompt</th>\n",
              "      <th>LLM Output</th>\n",
              "      <th>LLM Decision</th>\n",
              "      <th>Confidence</th>\n",
              "    </tr>\n",
              "  </thead>\n",
              "  <tbody>\n",
              "    <tr>\n",
              "      <th>0</th>\n",
              "      <td>trial15_Healthy</td>\n",
              "      <td>Healthy</td>\n",
              "      <td>\\nEEG-Based Ontology Reference:\\nMild Cognitiv...</td>\n",
              "      <td>Conclusion: Control  \\nExplanation: The EEG su...</td>\n",
              "      <td>Healthy</td>\n",
              "      <td>high</td>\n",
              "    </tr>\n",
              "    <tr>\n",
              "      <th>1</th>\n",
              "      <td>trial20_Healthy</td>\n",
              "      <td>Healthy</td>\n",
              "      <td>\\nEEG-Based Ontology Reference:\\nMild Cognitiv...</td>\n",
              "      <td>Conclusion: Control  \\nExplanation: The EEG su...</td>\n",
              "      <td>Healthy</td>\n",
              "      <td>high</td>\n",
              "    </tr>\n",
              "    <tr>\n",
              "      <th>2</th>\n",
              "      <td>trial8_Healthy</td>\n",
              "      <td>Healthy</td>\n",
              "      <td>\\nEEG-Based Ontology Reference:\\nMild Cognitiv...</td>\n",
              "      <td>Conclusion: Control  \\nExplanation: The EEG su...</td>\n",
              "      <td>Healthy</td>\n",
              "      <td>high</td>\n",
              "    </tr>\n",
              "    <tr>\n",
              "      <th>3</th>\n",
              "      <td>trial17_Healthy</td>\n",
              "      <td>Healthy</td>\n",
              "      <td>\\nEEG-Based Ontology Reference:\\nMild Cognitiv...</td>\n",
              "      <td>Conclusion: Control  \\nExplanation: The EEG su...</td>\n",
              "      <td>Healthy</td>\n",
              "      <td>high</td>\n",
              "    </tr>\n",
              "    <tr>\n",
              "      <th>4</th>\n",
              "      <td>trial13_Healthy</td>\n",
              "      <td>Healthy</td>\n",
              "      <td>\\nEEG-Based Ontology Reference:\\nMild Cognitiv...</td>\n",
              "      <td>Conclusion: Control  \\nExplanation: The EEG su...</td>\n",
              "      <td>Healthy</td>\n",
              "      <td>high</td>\n",
              "    </tr>\n",
              "    <tr>\n",
              "      <th>5</th>\n",
              "      <td>trial14_Healthy</td>\n",
              "      <td>Healthy</td>\n",
              "      <td>\\nEEG-Based Ontology Reference:\\nMild Cognitiv...</td>\n",
              "      <td>Conclusion: Control  \\nExplanation: The EEG su...</td>\n",
              "      <td>Healthy</td>\n",
              "      <td>high</td>\n",
              "    </tr>\n",
              "    <tr>\n",
              "      <th>6</th>\n",
              "      <td>trial22_Healthy</td>\n",
              "      <td>Healthy</td>\n",
              "      <td>\\nEEG-Based Ontology Reference:\\nMild Cognitiv...</td>\n",
              "      <td>Conclusion: Control  \\nExplanation: The EEG su...</td>\n",
              "      <td>Healthy</td>\n",
              "      <td>high</td>\n",
              "    </tr>\n",
              "    <tr>\n",
              "      <th>7</th>\n",
              "      <td>trial21_Healthy</td>\n",
              "      <td>Healthy</td>\n",
              "      <td>\\nEEG-Based Ontology Reference:\\nMild Cognitiv...</td>\n",
              "      <td>Conclusion: Control  \\nExplanation: The EEG su...</td>\n",
              "      <td>Healthy</td>\n",
              "      <td>high</td>\n",
              "    </tr>\n",
              "    <tr>\n",
              "      <th>8</th>\n",
              "      <td>trial10_Healthy</td>\n",
              "      <td>Healthy</td>\n",
              "      <td>\\nEEG-Based Ontology Reference:\\nMild Cognitiv...</td>\n",
              "      <td>Conclusion: Control  \\nExplanation: The EEG su...</td>\n",
              "      <td>Healthy</td>\n",
              "      <td>high</td>\n",
              "    </tr>\n",
              "    <tr>\n",
              "      <th>9</th>\n",
              "      <td>trial12_Healthy</td>\n",
              "      <td>Healthy</td>\n",
              "      <td>\\nEEG-Based Ontology Reference:\\nMild Cognitiv...</td>\n",
              "      <td>Conclusion: Control  \\nExplanation: The EEG su...</td>\n",
              "      <td>Healthy</td>\n",
              "      <td>high</td>\n",
              "    </tr>\n",
              "    <tr>\n",
              "      <th>10</th>\n",
              "      <td>trial9_Healthy</td>\n",
              "      <td>Healthy</td>\n",
              "      <td>\\nEEG-Based Ontology Reference:\\nMild Cognitiv...</td>\n",
              "      <td>Conclusion: Control  \\nExplanation: The EEG su...</td>\n",
              "      <td>Healthy</td>\n",
              "      <td>high</td>\n",
              "    </tr>\n",
              "    <tr>\n",
              "      <th>11</th>\n",
              "      <td>trial5_Healthy</td>\n",
              "      <td>Healthy</td>\n",
              "      <td>\\nEEG-Based Ontology Reference:\\nMild Cognitiv...</td>\n",
              "      <td>Conclusion: Control  \\nExplanation: The EEG su...</td>\n",
              "      <td>Healthy</td>\n",
              "      <td>high</td>\n",
              "    </tr>\n",
              "    <tr>\n",
              "      <th>12</th>\n",
              "      <td>trial25_Healthy</td>\n",
              "      <td>Healthy</td>\n",
              "      <td>\\nEEG-Based Ontology Reference:\\nMild Cognitiv...</td>\n",
              "      <td>Conclusion: Control  \\nExplanation: The EEG su...</td>\n",
              "      <td>Healthy</td>\n",
              "      <td>high</td>\n",
              "    </tr>\n",
              "    <tr>\n",
              "      <th>13</th>\n",
              "      <td>trial19_Healthy</td>\n",
              "      <td>Healthy</td>\n",
              "      <td>\\nEEG-Based Ontology Reference:\\nMild Cognitiv...</td>\n",
              "      <td>Conclusion: Control  \\nExplanation: The EEG su...</td>\n",
              "      <td>Healthy</td>\n",
              "      <td>high</td>\n",
              "    </tr>\n",
              "    <tr>\n",
              "      <th>14</th>\n",
              "      <td>trial24_Healthy</td>\n",
              "      <td>Healthy</td>\n",
              "      <td>\\nEEG-Based Ontology Reference:\\nMild Cognitiv...</td>\n",
              "      <td>Conclusion: Control  \\nExplanation: The EEG su...</td>\n",
              "      <td>Healthy</td>\n",
              "      <td>high</td>\n",
              "    </tr>\n",
              "    <tr>\n",
              "      <th>15</th>\n",
              "      <td>trial23_Healthy</td>\n",
              "      <td>Healthy</td>\n",
              "      <td>\\nEEG-Based Ontology Reference:\\nMild Cognitiv...</td>\n",
              "      <td>Conclusion: Control  \\nExplanation: The EEG su...</td>\n",
              "      <td>Healthy</td>\n",
              "      <td>high</td>\n",
              "    </tr>\n",
              "    <tr>\n",
              "      <th>16</th>\n",
              "      <td>trial11_Healthy</td>\n",
              "      <td>Healthy</td>\n",
              "      <td>\\nEEG-Based Ontology Reference:\\nMild Cognitiv...</td>\n",
              "      <td>Conclusion: Control  \\nExplanation: The EEG su...</td>\n",
              "      <td>Healthy</td>\n",
              "      <td>high</td>\n",
              "    </tr>\n",
              "    <tr>\n",
              "      <th>17</th>\n",
              "      <td>trial18_Healthy</td>\n",
              "      <td>Healthy</td>\n",
              "      <td>\\nEEG-Based Ontology Reference:\\nMild Cognitiv...</td>\n",
              "      <td>Conclusion: Control  \\nExplanation: The EEG su...</td>\n",
              "      <td>Healthy</td>\n",
              "      <td>high</td>\n",
              "    </tr>\n",
              "    <tr>\n",
              "      <th>18</th>\n",
              "      <td>trial7_Healthy</td>\n",
              "      <td>Healthy</td>\n",
              "      <td>\\nEEG-Based Ontology Reference:\\nMild Cognitiv...</td>\n",
              "      <td>Conclusion: Control  \\nExplanation: The EEG su...</td>\n",
              "      <td>Healthy</td>\n",
              "      <td>high</td>\n",
              "    </tr>\n",
              "    <tr>\n",
              "      <th>19</th>\n",
              "      <td>trial6_Healthy</td>\n",
              "      <td>Healthy</td>\n",
              "      <td>\\nEEG-Based Ontology Reference:\\nMild Cognitiv...</td>\n",
              "      <td>Conclusion: Control  \\nExplanation: The EEG su...</td>\n",
              "      <td>Healthy</td>\n",
              "      <td>high</td>\n",
              "    </tr>\n",
              "    <tr>\n",
              "      <th>20</th>\n",
              "      <td>trial1_Healthy</td>\n",
              "      <td>Healthy</td>\n",
              "      <td>\\nEEG-Based Ontology Reference:\\nMild Cognitiv...</td>\n",
              "      <td>Conclusion: Control  \\nExplanation: The EEG su...</td>\n",
              "      <td>Healthy</td>\n",
              "      <td>high</td>\n",
              "    </tr>\n",
              "    <tr>\n",
              "      <th>21</th>\n",
              "      <td>trial16_Healthy</td>\n",
              "      <td>Healthy</td>\n",
              "      <td>\\nEEG-Based Ontology Reference:\\nMild Cognitiv...</td>\n",
              "      <td>Conclusion: Control  \\nExplanation: The EEG su...</td>\n",
              "      <td>Healthy</td>\n",
              "      <td>high</td>\n",
              "    </tr>\n",
              "    <tr>\n",
              "      <th>22</th>\n",
              "      <td>trial4_Healthy</td>\n",
              "      <td>Healthy</td>\n",
              "      <td>\\nEEG-Based Ontology Reference:\\nMild Cognitiv...</td>\n",
              "      <td>Conclusion: Control  \\nExplanation: The EEG su...</td>\n",
              "      <td>Healthy</td>\n",
              "      <td>high</td>\n",
              "    </tr>\n",
              "    <tr>\n",
              "      <th>23</th>\n",
              "      <td>trial3_Healthy</td>\n",
              "      <td>Healthy</td>\n",
              "      <td>\\nEEG-Based Ontology Reference:\\nMild Cognitiv...</td>\n",
              "      <td>Conclusion: Control  \\nExplanation: The EEG su...</td>\n",
              "      <td>Healthy</td>\n",
              "      <td>high</td>\n",
              "    </tr>\n",
              "    <tr>\n",
              "      <th>24</th>\n",
              "      <td>trial2_Healthy</td>\n",
              "      <td>Healthy</td>\n",
              "      <td>\\nEEG-Based Ontology Reference:\\nMild Cognitiv...</td>\n",
              "      <td>Conclusion: Control  \\nExplanation: The EEG su...</td>\n",
              "      <td>Healthy</td>\n",
              "      <td>high</td>\n",
              "    </tr>\n",
              "    <tr>\n",
              "      <th>25</th>\n",
              "      <td>trial20_MCI</td>\n",
              "      <td>MCI</td>\n",
              "      <td>\\nEEG-Based Ontology Reference:\\nMild Cognitiv...</td>\n",
              "      <td>Conclusion: MCI  \\nExplanation: The EEG summar...</td>\n",
              "      <td>MCI</td>\n",
              "      <td>high</td>\n",
              "    </tr>\n",
              "    <tr>\n",
              "      <th>26</th>\n",
              "      <td>trial14_MCI</td>\n",
              "      <td>MCI</td>\n",
              "      <td>\\nEEG-Based Ontology Reference:\\nMild Cognitiv...</td>\n",
              "      <td>Conclusion: MCI  \\nExplanation: The EEG summar...</td>\n",
              "      <td>MCI</td>\n",
              "      <td>high</td>\n",
              "    </tr>\n",
              "    <tr>\n",
              "      <th>27</th>\n",
              "      <td>trial21_MCI</td>\n",
              "      <td>MCI</td>\n",
              "      <td>\\nEEG-Based Ontology Reference:\\nMild Cognitiv...</td>\n",
              "      <td>Conclusion: MCI  \\nExplanation: The EEG summar...</td>\n",
              "      <td>MCI</td>\n",
              "      <td>high</td>\n",
              "    </tr>\n",
              "    <tr>\n",
              "      <th>28</th>\n",
              "      <td>trial17_MCI</td>\n",
              "      <td>MCI</td>\n",
              "      <td>\\nEEG-Based Ontology Reference:\\nMild Cognitiv...</td>\n",
              "      <td>Conclusion: MCI  \\nExplanation: The EEG summar...</td>\n",
              "      <td>MCI</td>\n",
              "      <td>high</td>\n",
              "    </tr>\n",
              "    <tr>\n",
              "      <th>29</th>\n",
              "      <td>trial9_MCI</td>\n",
              "      <td>MCI</td>\n",
              "      <td>\\nEEG-Based Ontology Reference:\\nMild Cognitiv...</td>\n",
              "      <td>Conclusion: MCI  \\nExplanation: The EEG summar...</td>\n",
              "      <td>MCI</td>\n",
              "      <td>high</td>\n",
              "    </tr>\n",
              "    <tr>\n",
              "      <th>30</th>\n",
              "      <td>trial24_MCI</td>\n",
              "      <td>MCI</td>\n",
              "      <td>\\nEEG-Based Ontology Reference:\\nMild Cognitiv...</td>\n",
              "      <td>Conclusion: MCI  \\nExplanation: The EEG summar...</td>\n",
              "      <td>MCI</td>\n",
              "      <td>high</td>\n",
              "    </tr>\n",
              "    <tr>\n",
              "      <th>31</th>\n",
              "      <td>trial22_MCI</td>\n",
              "      <td>MCI</td>\n",
              "      <td>\\nEEG-Based Ontology Reference:\\nMild Cognitiv...</td>\n",
              "      <td>Conclusion: MCI  \\nExplanation: The EEG summar...</td>\n",
              "      <td>MCI</td>\n",
              "      <td>high</td>\n",
              "    </tr>\n",
              "    <tr>\n",
              "      <th>32</th>\n",
              "      <td>trial10_MCI</td>\n",
              "      <td>MCI</td>\n",
              "      <td>\\nEEG-Based Ontology Reference:\\nMild Cognitiv...</td>\n",
              "      <td>Conclusion: MCI  \\nExplanation: The EEG summar...</td>\n",
              "      <td>MCI</td>\n",
              "      <td>high</td>\n",
              "    </tr>\n",
              "    <tr>\n",
              "      <th>33</th>\n",
              "      <td>trial11_MCI</td>\n",
              "      <td>MCI</td>\n",
              "      <td>\\nEEG-Based Ontology Reference:\\nMild Cognitiv...</td>\n",
              "      <td>Conclusion: MCI  \\nExplanation: The EEG summar...</td>\n",
              "      <td>MCI</td>\n",
              "      <td>high</td>\n",
              "    </tr>\n",
              "    <tr>\n",
              "      <th>34</th>\n",
              "      <td>trial12_MCI</td>\n",
              "      <td>MCI</td>\n",
              "      <td>\\nEEG-Based Ontology Reference:\\nMild Cognitiv...</td>\n",
              "      <td>Conclusion: MCI  \\nExplanation: The EEG summar...</td>\n",
              "      <td>MCI</td>\n",
              "      <td>high</td>\n",
              "    </tr>\n",
              "    <tr>\n",
              "      <th>35</th>\n",
              "      <td>trial13_MCI</td>\n",
              "      <td>MCI</td>\n",
              "      <td>\\nEEG-Based Ontology Reference:\\nMild Cognitiv...</td>\n",
              "      <td>Conclusion: MCI  \\nExplanation: The EEG summar...</td>\n",
              "      <td>MCI</td>\n",
              "      <td>high</td>\n",
              "    </tr>\n",
              "    <tr>\n",
              "      <th>36</th>\n",
              "      <td>trial7_MCI</td>\n",
              "      <td>MCI</td>\n",
              "      <td>\\nEEG-Based Ontology Reference:\\nMild Cognitiv...</td>\n",
              "      <td>Conclusion: MCI  \\nExplanation: The EEG summar...</td>\n",
              "      <td>MCI</td>\n",
              "      <td>high</td>\n",
              "    </tr>\n",
              "    <tr>\n",
              "      <th>37</th>\n",
              "      <td>trial23_MCI</td>\n",
              "      <td>MCI</td>\n",
              "      <td>\\nEEG-Based Ontology Reference:\\nMild Cognitiv...</td>\n",
              "      <td>Conclusion: MCI  \\nExplanation: The EEG summar...</td>\n",
              "      <td>MCI</td>\n",
              "      <td>high</td>\n",
              "    </tr>\n",
              "    <tr>\n",
              "      <th>38</th>\n",
              "      <td>trial16_MCI</td>\n",
              "      <td>MCI</td>\n",
              "      <td>\\nEEG-Based Ontology Reference:\\nMild Cognitiv...</td>\n",
              "      <td>Conclusion: MCI  \\nExplanation: The EEG summar...</td>\n",
              "      <td>MCI</td>\n",
              "      <td>high</td>\n",
              "    </tr>\n",
              "    <tr>\n",
              "      <th>39</th>\n",
              "      <td>trial8_MCI</td>\n",
              "      <td>MCI</td>\n",
              "      <td>\\nEEG-Based Ontology Reference:\\nMild Cognitiv...</td>\n",
              "      <td>Conclusion: MCI  \\nExplanation: The EEG summar...</td>\n",
              "      <td>MCI</td>\n",
              "      <td>high</td>\n",
              "    </tr>\n",
              "    <tr>\n",
              "      <th>40</th>\n",
              "      <td>trial18_MCI</td>\n",
              "      <td>MCI</td>\n",
              "      <td>\\nEEG-Based Ontology Reference:\\nMild Cognitiv...</td>\n",
              "      <td>Conclusion: MCI  \\nExplanation: The EEG summar...</td>\n",
              "      <td>MCI</td>\n",
              "      <td>high</td>\n",
              "    </tr>\n",
              "    <tr>\n",
              "      <th>41</th>\n",
              "      <td>trial15_MCI</td>\n",
              "      <td>MCI</td>\n",
              "      <td>\\nEEG-Based Ontology Reference:\\nMild Cognitiv...</td>\n",
              "      <td>Conclusion: MCI  \\nExplanation: The EEG summar...</td>\n",
              "      <td>MCI</td>\n",
              "      <td>high</td>\n",
              "    </tr>\n",
              "    <tr>\n",
              "      <th>42</th>\n",
              "      <td>trial19_MCI</td>\n",
              "      <td>MCI</td>\n",
              "      <td>\\nEEG-Based Ontology Reference:\\nMild Cognitiv...</td>\n",
              "      <td>Conclusion: MCI  \\nExplanation: The EEG summar...</td>\n",
              "      <td>MCI</td>\n",
              "      <td>high</td>\n",
              "    </tr>\n",
              "    <tr>\n",
              "      <th>43</th>\n",
              "      <td>trial25_MCI</td>\n",
              "      <td>MCI</td>\n",
              "      <td>\\nEEG-Based Ontology Reference:\\nMild Cognitiv...</td>\n",
              "      <td>Conclusion: MCI\\n\\nExplanation: The EEG summar...</td>\n",
              "      <td>MCI</td>\n",
              "      <td>high</td>\n",
              "    </tr>\n",
              "    <tr>\n",
              "      <th>44</th>\n",
              "      <td>trial6_MCI</td>\n",
              "      <td>MCI</td>\n",
              "      <td>\\nEEG-Based Ontology Reference:\\nMild Cognitiv...</td>\n",
              "      <td>Conclusion: MCI  \\nExplanation: The EEG summar...</td>\n",
              "      <td>MCI</td>\n",
              "      <td>high</td>\n",
              "    </tr>\n",
              "    <tr>\n",
              "      <th>45</th>\n",
              "      <td>trial2_MCI</td>\n",
              "      <td>MCI</td>\n",
              "      <td>\\nEEG-Based Ontology Reference:\\nMild Cognitiv...</td>\n",
              "      <td>Conclusion: MCI  \\nExplanation: The EEG summar...</td>\n",
              "      <td>MCI</td>\n",
              "      <td>high</td>\n",
              "    </tr>\n",
              "    <tr>\n",
              "      <th>46</th>\n",
              "      <td>trial4_MCI</td>\n",
              "      <td>MCI</td>\n",
              "      <td>\\nEEG-Based Ontology Reference:\\nMild Cognitiv...</td>\n",
              "      <td>Conclusion: MCI  \\nExplanation: The EEG summar...</td>\n",
              "      <td>MCI</td>\n",
              "      <td>high</td>\n",
              "    </tr>\n",
              "    <tr>\n",
              "      <th>47</th>\n",
              "      <td>trial3_MCI</td>\n",
              "      <td>MCI</td>\n",
              "      <td>\\nEEG-Based Ontology Reference:\\nMild Cognitiv...</td>\n",
              "      <td>Conclusion: MCI  \\nExplanation: The EEG summar...</td>\n",
              "      <td>MCI</td>\n",
              "      <td>high</td>\n",
              "    </tr>\n",
              "    <tr>\n",
              "      <th>48</th>\n",
              "      <td>trial1_MCI</td>\n",
              "      <td>MCI</td>\n",
              "      <td>\\nEEG-Based Ontology Reference:\\nMild Cognitiv...</td>\n",
              "      <td>Conclusion: MCI  \\nExplanation: The EEG summar...</td>\n",
              "      <td>MCI</td>\n",
              "      <td>high</td>\n",
              "    </tr>\n",
              "    <tr>\n",
              "      <th>49</th>\n",
              "      <td>trial5_MCI</td>\n",
              "      <td>MCI</td>\n",
              "      <td>\\nEEG-Based Ontology Reference:\\nMild Cognitiv...</td>\n",
              "      <td>Conclusion: MCI  \\nExplanation: The EEG summar...</td>\n",
              "      <td>MCI</td>\n",
              "      <td>high</td>\n",
              "    </tr>\n",
              "  </tbody>\n",
              "</table>\n",
              "</div>\n",
              "    <div class=\"colab-df-buttons\">\n",
              "\n",
              "  <div class=\"colab-df-container\">\n",
              "    <button class=\"colab-df-convert\" onclick=\"convertToInteractive('df-59f73d03-f783-4a85-9b04-fa1e7f80cc39')\"\n",
              "            title=\"Convert this dataframe to an interactive table.\"\n",
              "            style=\"display:none;\">\n",
              "\n",
              "  <svg xmlns=\"http://www.w3.org/2000/svg\" height=\"24px\" viewBox=\"0 -960 960 960\">\n",
              "    <path d=\"M120-120v-720h720v720H120Zm60-500h600v-160H180v160Zm220 220h160v-160H400v160Zm0 220h160v-160H400v160ZM180-400h160v-160H180v160Zm440 0h160v-160H620v160ZM180-180h160v-160H180v160Zm440 0h160v-160H620v160Z\"/>\n",
              "  </svg>\n",
              "    </button>\n",
              "\n",
              "  <style>\n",
              "    .colab-df-container {\n",
              "      display:flex;\n",
              "      gap: 12px;\n",
              "    }\n",
              "\n",
              "    .colab-df-convert {\n",
              "      background-color: #E8F0FE;\n",
              "      border: none;\n",
              "      border-radius: 50%;\n",
              "      cursor: pointer;\n",
              "      display: none;\n",
              "      fill: #1967D2;\n",
              "      height: 32px;\n",
              "      padding: 0 0 0 0;\n",
              "      width: 32px;\n",
              "    }\n",
              "\n",
              "    .colab-df-convert:hover {\n",
              "      background-color: #E2EBFA;\n",
              "      box-shadow: 0px 1px 2px rgba(60, 64, 67, 0.3), 0px 1px 3px 1px rgba(60, 64, 67, 0.15);\n",
              "      fill: #174EA6;\n",
              "    }\n",
              "\n",
              "    .colab-df-buttons div {\n",
              "      margin-bottom: 4px;\n",
              "    }\n",
              "\n",
              "    [theme=dark] .colab-df-convert {\n",
              "      background-color: #3B4455;\n",
              "      fill: #D2E3FC;\n",
              "    }\n",
              "\n",
              "    [theme=dark] .colab-df-convert:hover {\n",
              "      background-color: #434B5C;\n",
              "      box-shadow: 0px 1px 3px 1px rgba(0, 0, 0, 0.15);\n",
              "      filter: drop-shadow(0px 1px 2px rgba(0, 0, 0, 0.3));\n",
              "      fill: #FFFFFF;\n",
              "    }\n",
              "  </style>\n",
              "\n",
              "    <script>\n",
              "      const buttonEl =\n",
              "        document.querySelector('#df-59f73d03-f783-4a85-9b04-fa1e7f80cc39 button.colab-df-convert');\n",
              "      buttonEl.style.display =\n",
              "        google.colab.kernel.accessAllowed ? 'block' : 'none';\n",
              "\n",
              "      async function convertToInteractive(key) {\n",
              "        const element = document.querySelector('#df-59f73d03-f783-4a85-9b04-fa1e7f80cc39');\n",
              "        const dataTable =\n",
              "          await google.colab.kernel.invokeFunction('convertToInteractive',\n",
              "                                                    [key], {});\n",
              "        if (!dataTable) return;\n",
              "\n",
              "        const docLinkHtml = 'Like what you see? Visit the ' +\n",
              "          '<a target=\"_blank\" href=https://colab.research.google.com/notebooks/data_table.ipynb>data table notebook</a>'\n",
              "          + ' to learn more about interactive tables.';\n",
              "        element.innerHTML = '';\n",
              "        dataTable['output_type'] = 'display_data';\n",
              "        await google.colab.output.renderOutput(dataTable, element);\n",
              "        const docLink = document.createElement('div');\n",
              "        docLink.innerHTML = docLinkHtml;\n",
              "        element.appendChild(docLink);\n",
              "      }\n",
              "    </script>\n",
              "  </div>\n",
              "\n",
              "\n",
              "    <div id=\"df-dcc5020a-f74a-4926-b149-242cb9921504\">\n",
              "      <button class=\"colab-df-quickchart\" onclick=\"quickchart('df-dcc5020a-f74a-4926-b149-242cb9921504')\"\n",
              "                title=\"Suggest charts\"\n",
              "                style=\"display:none;\">\n",
              "\n",
              "<svg xmlns=\"http://www.w3.org/2000/svg\" height=\"24px\"viewBox=\"0 0 24 24\"\n",
              "     width=\"24px\">\n",
              "    <g>\n",
              "        <path d=\"M19 3H5c-1.1 0-2 .9-2 2v14c0 1.1.9 2 2 2h14c1.1 0 2-.9 2-2V5c0-1.1-.9-2-2-2zM9 17H7v-7h2v7zm4 0h-2V7h2v10zm4 0h-2v-4h2v4z\"/>\n",
              "    </g>\n",
              "</svg>\n",
              "      </button>\n",
              "\n",
              "<style>\n",
              "  .colab-df-quickchart {\n",
              "      --bg-color: #E8F0FE;\n",
              "      --fill-color: #1967D2;\n",
              "      --hover-bg-color: #E2EBFA;\n",
              "      --hover-fill-color: #174EA6;\n",
              "      --disabled-fill-color: #AAA;\n",
              "      --disabled-bg-color: #DDD;\n",
              "  }\n",
              "\n",
              "  [theme=dark] .colab-df-quickchart {\n",
              "      --bg-color: #3B4455;\n",
              "      --fill-color: #D2E3FC;\n",
              "      --hover-bg-color: #434B5C;\n",
              "      --hover-fill-color: #FFFFFF;\n",
              "      --disabled-bg-color: #3B4455;\n",
              "      --disabled-fill-color: #666;\n",
              "  }\n",
              "\n",
              "  .colab-df-quickchart {\n",
              "    background-color: var(--bg-color);\n",
              "    border: none;\n",
              "    border-radius: 50%;\n",
              "    cursor: pointer;\n",
              "    display: none;\n",
              "    fill: var(--fill-color);\n",
              "    height: 32px;\n",
              "    padding: 0;\n",
              "    width: 32px;\n",
              "  }\n",
              "\n",
              "  .colab-df-quickchart:hover {\n",
              "    background-color: var(--hover-bg-color);\n",
              "    box-shadow: 0 1px 2px rgba(60, 64, 67, 0.3), 0 1px 3px 1px rgba(60, 64, 67, 0.15);\n",
              "    fill: var(--button-hover-fill-color);\n",
              "  }\n",
              "\n",
              "  .colab-df-quickchart-complete:disabled,\n",
              "  .colab-df-quickchart-complete:disabled:hover {\n",
              "    background-color: var(--disabled-bg-color);\n",
              "    fill: var(--disabled-fill-color);\n",
              "    box-shadow: none;\n",
              "  }\n",
              "\n",
              "  .colab-df-spinner {\n",
              "    border: 2px solid var(--fill-color);\n",
              "    border-color: transparent;\n",
              "    border-bottom-color: var(--fill-color);\n",
              "    animation:\n",
              "      spin 1s steps(1) infinite;\n",
              "  }\n",
              "\n",
              "  @keyframes spin {\n",
              "    0% {\n",
              "      border-color: transparent;\n",
              "      border-bottom-color: var(--fill-color);\n",
              "      border-left-color: var(--fill-color);\n",
              "    }\n",
              "    20% {\n",
              "      border-color: transparent;\n",
              "      border-left-color: var(--fill-color);\n",
              "      border-top-color: var(--fill-color);\n",
              "    }\n",
              "    30% {\n",
              "      border-color: transparent;\n",
              "      border-left-color: var(--fill-color);\n",
              "      border-top-color: var(--fill-color);\n",
              "      border-right-color: var(--fill-color);\n",
              "    }\n",
              "    40% {\n",
              "      border-color: transparent;\n",
              "      border-right-color: var(--fill-color);\n",
              "      border-top-color: var(--fill-color);\n",
              "    }\n",
              "    60% {\n",
              "      border-color: transparent;\n",
              "      border-right-color: var(--fill-color);\n",
              "    }\n",
              "    80% {\n",
              "      border-color: transparent;\n",
              "      border-right-color: var(--fill-color);\n",
              "      border-bottom-color: var(--fill-color);\n",
              "    }\n",
              "    90% {\n",
              "      border-color: transparent;\n",
              "      border-bottom-color: var(--fill-color);\n",
              "    }\n",
              "  }\n",
              "</style>\n",
              "\n",
              "      <script>\n",
              "        async function quickchart(key) {\n",
              "          const quickchartButtonEl =\n",
              "            document.querySelector('#' + key + ' button');\n",
              "          quickchartButtonEl.disabled = true;  // To prevent multiple clicks.\n",
              "          quickchartButtonEl.classList.add('colab-df-spinner');\n",
              "          try {\n",
              "            const charts = await google.colab.kernel.invokeFunction(\n",
              "                'suggestCharts', [key], {});\n",
              "          } catch (error) {\n",
              "            console.error('Error during call to suggestCharts:', error);\n",
              "          }\n",
              "          quickchartButtonEl.classList.remove('colab-df-spinner');\n",
              "          quickchartButtonEl.classList.add('colab-df-quickchart-complete');\n",
              "        }\n",
              "        (() => {\n",
              "          let quickchartButtonEl =\n",
              "            document.querySelector('#df-dcc5020a-f74a-4926-b149-242cb9921504 button');\n",
              "          quickchartButtonEl.style.display =\n",
              "            google.colab.kernel.accessAllowed ? 'block' : 'none';\n",
              "        })();\n",
              "      </script>\n",
              "    </div>\n",
              "\n",
              "  <div id=\"id_cbb782cf-50bd-4747-a273-bb8c9cc7ec8f\">\n",
              "    <style>\n",
              "      .colab-df-generate {\n",
              "        background-color: #E8F0FE;\n",
              "        border: none;\n",
              "        border-radius: 50%;\n",
              "        cursor: pointer;\n",
              "        display: none;\n",
              "        fill: #1967D2;\n",
              "        height: 32px;\n",
              "        padding: 0 0 0 0;\n",
              "        width: 32px;\n",
              "      }\n",
              "\n",
              "      .colab-df-generate:hover {\n",
              "        background-color: #E2EBFA;\n",
              "        box-shadow: 0px 1px 2px rgba(60, 64, 67, 0.3), 0px 1px 3px 1px rgba(60, 64, 67, 0.15);\n",
              "        fill: #174EA6;\n",
              "      }\n",
              "\n",
              "      [theme=dark] .colab-df-generate {\n",
              "        background-color: #3B4455;\n",
              "        fill: #D2E3FC;\n",
              "      }\n",
              "\n",
              "      [theme=dark] .colab-df-generate:hover {\n",
              "        background-color: #434B5C;\n",
              "        box-shadow: 0px 1px 3px 1px rgba(0, 0, 0, 0.15);\n",
              "        filter: drop-shadow(0px 1px 2px rgba(0, 0, 0, 0.3));\n",
              "        fill: #FFFFFF;\n",
              "      }\n",
              "    </style>\n",
              "    <button class=\"colab-df-generate\" onclick=\"generateWithVariable('results_df')\"\n",
              "            title=\"Generate code using this dataframe.\"\n",
              "            style=\"display:none;\">\n",
              "\n",
              "  <svg xmlns=\"http://www.w3.org/2000/svg\" height=\"24px\"viewBox=\"0 0 24 24\"\n",
              "       width=\"24px\">\n",
              "    <path d=\"M7,19H8.4L18.45,9,17,7.55,7,17.6ZM5,21V16.75L18.45,3.32a2,2,0,0,1,2.83,0l1.4,1.43a1.91,1.91,0,0,1,.58,1.4,1.91,1.91,0,0,1-.58,1.4L9.25,21ZM18.45,9,17,7.55Zm-12,3A5.31,5.31,0,0,0,4.9,8.1,5.31,5.31,0,0,0,1,6.5,5.31,5.31,0,0,0,4.9,4.9,5.31,5.31,0,0,0,6.5,1,5.31,5.31,0,0,0,8.1,4.9,5.31,5.31,0,0,0,12,6.5,5.46,5.46,0,0,0,6.5,12Z\"/>\n",
              "  </svg>\n",
              "    </button>\n",
              "    <script>\n",
              "      (() => {\n",
              "      const buttonEl =\n",
              "        document.querySelector('#id_cbb782cf-50bd-4747-a273-bb8c9cc7ec8f button.colab-df-generate');\n",
              "      buttonEl.style.display =\n",
              "        google.colab.kernel.accessAllowed ? 'block' : 'none';\n",
              "\n",
              "      buttonEl.onclick = () => {\n",
              "        google.colab.notebook.generateWithVariable('results_df');\n",
              "      }\n",
              "      })();\n",
              "    </script>\n",
              "  </div>\n",
              "\n",
              "    </div>\n",
              "  </div>\n"
            ],
            "text/plain": [
              "            Subject Subject Condition  \\\n",
              "0   trial15_Healthy           Healthy   \n",
              "1   trial20_Healthy           Healthy   \n",
              "2    trial8_Healthy           Healthy   \n",
              "3   trial17_Healthy           Healthy   \n",
              "4   trial13_Healthy           Healthy   \n",
              "5   trial14_Healthy           Healthy   \n",
              "6   trial22_Healthy           Healthy   \n",
              "7   trial21_Healthy           Healthy   \n",
              "8   trial10_Healthy           Healthy   \n",
              "9   trial12_Healthy           Healthy   \n",
              "10   trial9_Healthy           Healthy   \n",
              "11   trial5_Healthy           Healthy   \n",
              "12  trial25_Healthy           Healthy   \n",
              "13  trial19_Healthy           Healthy   \n",
              "14  trial24_Healthy           Healthy   \n",
              "15  trial23_Healthy           Healthy   \n",
              "16  trial11_Healthy           Healthy   \n",
              "17  trial18_Healthy           Healthy   \n",
              "18   trial7_Healthy           Healthy   \n",
              "19   trial6_Healthy           Healthy   \n",
              "20   trial1_Healthy           Healthy   \n",
              "21  trial16_Healthy           Healthy   \n",
              "22   trial4_Healthy           Healthy   \n",
              "23   trial3_Healthy           Healthy   \n",
              "24   trial2_Healthy           Healthy   \n",
              "25      trial20_MCI               MCI   \n",
              "26      trial14_MCI               MCI   \n",
              "27      trial21_MCI               MCI   \n",
              "28      trial17_MCI               MCI   \n",
              "29       trial9_MCI               MCI   \n",
              "30      trial24_MCI               MCI   \n",
              "31      trial22_MCI               MCI   \n",
              "32      trial10_MCI               MCI   \n",
              "33      trial11_MCI               MCI   \n",
              "34      trial12_MCI               MCI   \n",
              "35      trial13_MCI               MCI   \n",
              "36       trial7_MCI               MCI   \n",
              "37      trial23_MCI               MCI   \n",
              "38      trial16_MCI               MCI   \n",
              "39       trial8_MCI               MCI   \n",
              "40      trial18_MCI               MCI   \n",
              "41      trial15_MCI               MCI   \n",
              "42      trial19_MCI               MCI   \n",
              "43      trial25_MCI               MCI   \n",
              "44       trial6_MCI               MCI   \n",
              "45       trial2_MCI               MCI   \n",
              "46       trial4_MCI               MCI   \n",
              "47       trial3_MCI               MCI   \n",
              "48       trial1_MCI               MCI   \n",
              "49       trial5_MCI               MCI   \n",
              "\n",
              "                                           LLM Prompt  \\\n",
              "0   \\nEEG-Based Ontology Reference:\\nMild Cognitiv...   \n",
              "1   \\nEEG-Based Ontology Reference:\\nMild Cognitiv...   \n",
              "2   \\nEEG-Based Ontology Reference:\\nMild Cognitiv...   \n",
              "3   \\nEEG-Based Ontology Reference:\\nMild Cognitiv...   \n",
              "4   \\nEEG-Based Ontology Reference:\\nMild Cognitiv...   \n",
              "5   \\nEEG-Based Ontology Reference:\\nMild Cognitiv...   \n",
              "6   \\nEEG-Based Ontology Reference:\\nMild Cognitiv...   \n",
              "7   \\nEEG-Based Ontology Reference:\\nMild Cognitiv...   \n",
              "8   \\nEEG-Based Ontology Reference:\\nMild Cognitiv...   \n",
              "9   \\nEEG-Based Ontology Reference:\\nMild Cognitiv...   \n",
              "10  \\nEEG-Based Ontology Reference:\\nMild Cognitiv...   \n",
              "11  \\nEEG-Based Ontology Reference:\\nMild Cognitiv...   \n",
              "12  \\nEEG-Based Ontology Reference:\\nMild Cognitiv...   \n",
              "13  \\nEEG-Based Ontology Reference:\\nMild Cognitiv...   \n",
              "14  \\nEEG-Based Ontology Reference:\\nMild Cognitiv...   \n",
              "15  \\nEEG-Based Ontology Reference:\\nMild Cognitiv...   \n",
              "16  \\nEEG-Based Ontology Reference:\\nMild Cognitiv...   \n",
              "17  \\nEEG-Based Ontology Reference:\\nMild Cognitiv...   \n",
              "18  \\nEEG-Based Ontology Reference:\\nMild Cognitiv...   \n",
              "19  \\nEEG-Based Ontology Reference:\\nMild Cognitiv...   \n",
              "20  \\nEEG-Based Ontology Reference:\\nMild Cognitiv...   \n",
              "21  \\nEEG-Based Ontology Reference:\\nMild Cognitiv...   \n",
              "22  \\nEEG-Based Ontology Reference:\\nMild Cognitiv...   \n",
              "23  \\nEEG-Based Ontology Reference:\\nMild Cognitiv...   \n",
              "24  \\nEEG-Based Ontology Reference:\\nMild Cognitiv...   \n",
              "25  \\nEEG-Based Ontology Reference:\\nMild Cognitiv...   \n",
              "26  \\nEEG-Based Ontology Reference:\\nMild Cognitiv...   \n",
              "27  \\nEEG-Based Ontology Reference:\\nMild Cognitiv...   \n",
              "28  \\nEEG-Based Ontology Reference:\\nMild Cognitiv...   \n",
              "29  \\nEEG-Based Ontology Reference:\\nMild Cognitiv...   \n",
              "30  \\nEEG-Based Ontology Reference:\\nMild Cognitiv...   \n",
              "31  \\nEEG-Based Ontology Reference:\\nMild Cognitiv...   \n",
              "32  \\nEEG-Based Ontology Reference:\\nMild Cognitiv...   \n",
              "33  \\nEEG-Based Ontology Reference:\\nMild Cognitiv...   \n",
              "34  \\nEEG-Based Ontology Reference:\\nMild Cognitiv...   \n",
              "35  \\nEEG-Based Ontology Reference:\\nMild Cognitiv...   \n",
              "36  \\nEEG-Based Ontology Reference:\\nMild Cognitiv...   \n",
              "37  \\nEEG-Based Ontology Reference:\\nMild Cognitiv...   \n",
              "38  \\nEEG-Based Ontology Reference:\\nMild Cognitiv...   \n",
              "39  \\nEEG-Based Ontology Reference:\\nMild Cognitiv...   \n",
              "40  \\nEEG-Based Ontology Reference:\\nMild Cognitiv...   \n",
              "41  \\nEEG-Based Ontology Reference:\\nMild Cognitiv...   \n",
              "42  \\nEEG-Based Ontology Reference:\\nMild Cognitiv...   \n",
              "43  \\nEEG-Based Ontology Reference:\\nMild Cognitiv...   \n",
              "44  \\nEEG-Based Ontology Reference:\\nMild Cognitiv...   \n",
              "45  \\nEEG-Based Ontology Reference:\\nMild Cognitiv...   \n",
              "46  \\nEEG-Based Ontology Reference:\\nMild Cognitiv...   \n",
              "47  \\nEEG-Based Ontology Reference:\\nMild Cognitiv...   \n",
              "48  \\nEEG-Based Ontology Reference:\\nMild Cognitiv...   \n",
              "49  \\nEEG-Based Ontology Reference:\\nMild Cognitiv...   \n",
              "\n",
              "                                           LLM Output LLM Decision Confidence  \n",
              "0   Conclusion: Control  \\nExplanation: The EEG su...      Healthy       high  \n",
              "1   Conclusion: Control  \\nExplanation: The EEG su...      Healthy       high  \n",
              "2   Conclusion: Control  \\nExplanation: The EEG su...      Healthy       high  \n",
              "3   Conclusion: Control  \\nExplanation: The EEG su...      Healthy       high  \n",
              "4   Conclusion: Control  \\nExplanation: The EEG su...      Healthy       high  \n",
              "5   Conclusion: Control  \\nExplanation: The EEG su...      Healthy       high  \n",
              "6   Conclusion: Control  \\nExplanation: The EEG su...      Healthy       high  \n",
              "7   Conclusion: Control  \\nExplanation: The EEG su...      Healthy       high  \n",
              "8   Conclusion: Control  \\nExplanation: The EEG su...      Healthy       high  \n",
              "9   Conclusion: Control  \\nExplanation: The EEG su...      Healthy       high  \n",
              "10  Conclusion: Control  \\nExplanation: The EEG su...      Healthy       high  \n",
              "11  Conclusion: Control  \\nExplanation: The EEG su...      Healthy       high  \n",
              "12  Conclusion: Control  \\nExplanation: The EEG su...      Healthy       high  \n",
              "13  Conclusion: Control  \\nExplanation: The EEG su...      Healthy       high  \n",
              "14  Conclusion: Control  \\nExplanation: The EEG su...      Healthy       high  \n",
              "15  Conclusion: Control  \\nExplanation: The EEG su...      Healthy       high  \n",
              "16  Conclusion: Control  \\nExplanation: The EEG su...      Healthy       high  \n",
              "17  Conclusion: Control  \\nExplanation: The EEG su...      Healthy       high  \n",
              "18  Conclusion: Control  \\nExplanation: The EEG su...      Healthy       high  \n",
              "19  Conclusion: Control  \\nExplanation: The EEG su...      Healthy       high  \n",
              "20  Conclusion: Control  \\nExplanation: The EEG su...      Healthy       high  \n",
              "21  Conclusion: Control  \\nExplanation: The EEG su...      Healthy       high  \n",
              "22  Conclusion: Control  \\nExplanation: The EEG su...      Healthy       high  \n",
              "23  Conclusion: Control  \\nExplanation: The EEG su...      Healthy       high  \n",
              "24  Conclusion: Control  \\nExplanation: The EEG su...      Healthy       high  \n",
              "25  Conclusion: MCI  \\nExplanation: The EEG summar...          MCI       high  \n",
              "26  Conclusion: MCI  \\nExplanation: The EEG summar...          MCI       high  \n",
              "27  Conclusion: MCI  \\nExplanation: The EEG summar...          MCI       high  \n",
              "28  Conclusion: MCI  \\nExplanation: The EEG summar...          MCI       high  \n",
              "29  Conclusion: MCI  \\nExplanation: The EEG summar...          MCI       high  \n",
              "30  Conclusion: MCI  \\nExplanation: The EEG summar...          MCI       high  \n",
              "31  Conclusion: MCI  \\nExplanation: The EEG summar...          MCI       high  \n",
              "32  Conclusion: MCI  \\nExplanation: The EEG summar...          MCI       high  \n",
              "33  Conclusion: MCI  \\nExplanation: The EEG summar...          MCI       high  \n",
              "34  Conclusion: MCI  \\nExplanation: The EEG summar...          MCI       high  \n",
              "35  Conclusion: MCI  \\nExplanation: The EEG summar...          MCI       high  \n",
              "36  Conclusion: MCI  \\nExplanation: The EEG summar...          MCI       high  \n",
              "37  Conclusion: MCI  \\nExplanation: The EEG summar...          MCI       high  \n",
              "38  Conclusion: MCI  \\nExplanation: The EEG summar...          MCI       high  \n",
              "39  Conclusion: MCI  \\nExplanation: The EEG summar...          MCI       high  \n",
              "40  Conclusion: MCI  \\nExplanation: The EEG summar...          MCI       high  \n",
              "41  Conclusion: MCI  \\nExplanation: The EEG summar...          MCI       high  \n",
              "42  Conclusion: MCI  \\nExplanation: The EEG summar...          MCI       high  \n",
              "43  Conclusion: MCI\\n\\nExplanation: The EEG summar...          MCI       high  \n",
              "44  Conclusion: MCI  \\nExplanation: The EEG summar...          MCI       high  \n",
              "45  Conclusion: MCI  \\nExplanation: The EEG summar...          MCI       high  \n",
              "46  Conclusion: MCI  \\nExplanation: The EEG summar...          MCI       high  \n",
              "47  Conclusion: MCI  \\nExplanation: The EEG summar...          MCI       high  \n",
              "48  Conclusion: MCI  \\nExplanation: The EEG summar...          MCI       high  \n",
              "49  Conclusion: MCI  \\nExplanation: The EEG summar...          MCI       high  "
            ]
          },
          "execution_count": 22,
          "metadata": {},
          "output_type": "execute_result"
        }
      ],
      "source": [
        "results_df"
      ]
    },
    {
      "cell_type": "markdown",
      "metadata": {
        "id": "Ws4J6PIxtVaL"
      },
      "source": [
        "## Results"
      ]
    },
    {
      "cell_type": "code",
      "execution_count": 23,
      "metadata": {
        "id": "MR9RGGBxaKuK"
      },
      "outputs": [],
      "source": [
        "for entry in all_llm_results:\n",
        "    parsed = categorize_llm_response(entry[\"LLM Output\"])\n",
        "    entry[\"LLM Decision\"] = parsed[\"decision\"]\n",
        "    entry[\"Confidence\"] = parsed[\"confidence\"]"
      ]
    },
    {
      "cell_type": "code",
      "execution_count": 24,
      "metadata": {
        "colab": {
          "base_uri": "https://localhost:8080/"
        },
        "id": "WcKBn_4-aNhI",
        "outputId": "11a725e0-eafc-497b-891f-f40dd4858587"
      },
      "outputs": [
        {
          "data": {
            "text/plain": [
              "Counter({('Healthy', 'Healthy', 'high'): 25, ('MCI', 'MCI', 'high'): 25})"
            ]
          },
          "execution_count": 24,
          "metadata": {},
          "output_type": "execute_result"
        }
      ],
      "source": [
        "from collections import Counter\n",
        "\n",
        "Counter((entry[\"Subject Condition\"], entry[\"LLM Decision\"], entry[\"Confidence\"]) for entry in all_llm_results)"
      ]
    },
    {
      "cell_type": "markdown",
      "metadata": {
        "id": "uWj6CmYSt6TT"
      },
      "source": [
        "### Confusion Matrix"
      ]
    },
    {
      "cell_type": "code",
      "execution_count": null,
      "metadata": {
        "colab": {
          "base_uri": "https://localhost:8080/",
          "height": 607
        },
        "id": "fJXhLq8euLxn",
        "outputId": "38bc4a9d-dd6b-4e8b-96f1-a35dfe8e99f9"
      },
      "outputs": [
        {
          "data": {
            "image/png": "[encoded data removed]",
            "text/plain": [
              "<Figure size 700x600 with 2 Axes>"
            ]
          },
          "metadata": {},
          "output_type": "display_data"
        }
      ],
      "source": [
        "import pandas as pd\n",
        "import seaborn as sns\n",
        "import matplotlib.pyplot as plt\n",
        "from sklearn.metrics import confusion_matrix, classification_report\n",
        "\n",
        "# Load your results file\n",
        "\n",
        "df = pd.read_csv(\"/NeuroSyncAI/mci_dataset_neuropose_small/llm_subject_predictions_latest_eeg_neuropose.csv\")\n",
        "\n",
        "# Normalize labels\n",
        "df[\"Subject Condition\"] = df[\"Subject Condition\"].str.strip().str.capitalize()\n",
        "df[\"LLM Decision\"] = df[\"LLM Decision\"].replace(\"review\", \"Uncertain\").str.strip().str.capitalize()\n",
        "\n",
        "# Define labels and compute confusion matrix\n",
        "labels = [\"Healthy\", \"Mci\", \"Uncertain\"]\n",
        "y_true = df[\"Subject Condition\"]\n",
        "y_pred = df[\"LLM Decision\"]\n",
        "\n",
        "# 1. Normalized Confusion Matrix\n",
        "cm = confusion_matrix(y_true, y_pred, labels=labels, normalize='true')\n",
        "plt.figure(figsize=(7, 6))\n",
        "sns.heatmap(cm, annot=True, fmt=\".2f\", cmap=\"Purples\", xticklabels=labels, yticklabels=labels)\n",
        "plt.xlabel(\"Predicted\")\n",
        "plt.ylabel(\"True Label\")\n",
        "plt.title(\"LLM-Based Triage Confusion Matrix (3-Class Normalized)\")\n",
        "plt.tight_layout()\n",
        "plt.show()\n"
      ]
    },
    {
      "cell_type": "code",
      "execution_count": 26,
      "metadata": {
        "colab": {
          "base_uri": "https://localhost:8080/"
        },
        "id": "Lb6TCa26t2sb",
        "outputId": "f5ff99c1-fa5f-47f2-a079-3f8f7e62b67e"
      },
      "outputs": [
        {
          "name": "stdout",
          "output_type": "stream",
          "text": [
            "Overall Accuracy: 1.00\n"
          ]
        }
      ],
      "source": [
        "from sklearn.metrics import accuracy_score\n",
        "\n",
        "overall_acc = accuracy_score(y_true, y_pred)\n",
        "print(f\"Overall Accuracy: {overall_acc:.2f}\")\n"
      ]
    },
    {
      "cell_type": "markdown",
      "metadata": {
        "id": "gubQUQ4WuT1a"
      },
      "source": [
        "### Classification Report"
      ]
    },
    {
      "cell_type": "code",
      "execution_count": 27,
      "metadata": {
        "colab": {
          "base_uri": "https://localhost:8080/",
          "height": 206
        },
        "id": "M-uTCAFruVUA",
        "outputId": "7ed3030f-847a-43b2-9baa-e1e4dc79af7e"
      },
      "outputs": [
        {
          "data": {
            "application/vnd.google.colaboratory.intrinsic+json": {
              "summary": "{\n  \"name\": \"binary_df\",\n  \"rows\": 5,\n  \"fields\": [\n    {\n      \"column\": \"precision\",\n      \"properties\": {\n        \"dtype\": \"number\",\n        \"std\": 0.0,\n        \"min\": 1.0,\n        \"max\": 1.0,\n        \"num_unique_values\": 1,\n        \"samples\": [\n          1.0\n        ],\n        \"semantic_type\": \"\",\n        \"description\": \"\"\n      }\n    },\n    {\n      \"column\": \"recall\",\n      \"properties\": {\n        \"dtype\": \"number\",\n        \"std\": 0.0,\n        \"min\": 1.0,\n        \"max\": 1.0,\n        \"num_unique_values\": 1,\n        \"samples\": [\n          1.0\n        ],\n        \"semantic_type\": \"\",\n        \"description\": \"\"\n      }\n    },\n    {\n      \"column\": \"f1-score\",\n      \"properties\": {\n        \"dtype\": \"number\",\n        \"std\": 0.0,\n        \"min\": 1.0,\n        \"max\": 1.0,\n        \"num_unique_values\": 1,\n        \"samples\": [\n          1.0\n        ],\n        \"semantic_type\": \"\",\n        \"description\": \"\"\n      }\n    },\n    {\n      \"column\": \"support\",\n      \"properties\": {\n        \"dtype\": \"number\",\n        \"std\": 20.55966925804012,\n        \"min\": 1.0,\n        \"max\": 50.0,\n        \"num_unique_values\": 3,\n        \"samples\": [\n          25.0\n        ],\n        \"semantic_type\": \"\",\n        \"description\": \"\"\n      }\n    }\n  ]\n}",
              "type": "dataframe",
              "variable_name": "binary_df"
            },
            "text/html": [
              "\n",
              "  <div id=\"df-dcf4fa8d-34eb-487e-b401-e195e76ba4cc\" class=\"colab-df-container\">\n",
              "    <div>\n",
              "<style scoped>\n",
              "    .dataframe tbody tr th:only-of-type {\n",
              "        vertical-align: middle;\n",
              "    }\n",
              "\n",
              "    .dataframe tbody tr th {\n",
              "        vertical-align: top;\n",
              "    }\n",
              "\n",
              "    .dataframe thead th {\n",
              "        text-align: right;\n",
              "    }\n",
              "</style>\n",
              "<table border=\"1\" class=\"dataframe\">\n",
              "  <thead>\n",
              "    <tr style=\"text-align: right;\">\n",
              "      <th></th>\n",
              "      <th>precision</th>\n",
              "      <th>recall</th>\n",
              "      <th>f1-score</th>\n",
              "      <th>support</th>\n",
              "    </tr>\n",
              "  </thead>\n",
              "  <tbody>\n",
              "    <tr>\n",
              "      <th>Healthy</th>\n",
              "      <td>1.0</td>\n",
              "      <td>1.0</td>\n",
              "      <td>1.0</td>\n",
              "      <td>25.0</td>\n",
              "    </tr>\n",
              "    <tr>\n",
              "      <th>Mci</th>\n",
              "      <td>1.0</td>\n",
              "      <td>1.0</td>\n",
              "      <td>1.0</td>\n",
              "      <td>25.0</td>\n",
              "    </tr>\n",
              "    <tr>\n",
              "      <th>accuracy</th>\n",
              "      <td>1.0</td>\n",
              "      <td>1.0</td>\n",
              "      <td>1.0</td>\n",
              "      <td>1.0</td>\n",
              "    </tr>\n",
              "    <tr>\n",
              "      <th>macro avg</th>\n",
              "      <td>1.0</td>\n",
              "      <td>1.0</td>\n",
              "      <td>1.0</td>\n",
              "      <td>50.0</td>\n",
              "    </tr>\n",
              "    <tr>\n",
              "      <th>weighted avg</th>\n",
              "      <td>1.0</td>\n",
              "      <td>1.0</td>\n",
              "      <td>1.0</td>\n",
              "      <td>50.0</td>\n",
              "    </tr>\n",
              "  </tbody>\n",
              "</table>\n",
              "</div>\n",
              "    <div class=\"colab-df-buttons\">\n",
              "\n",
              "  <div class=\"colab-df-container\">\n",
              "    <button class=\"colab-df-convert\" onclick=\"convertToInteractive('df-dcf4fa8d-34eb-487e-b401-e195e76ba4cc')\"\n",
              "            title=\"Convert this dataframe to an interactive table.\"\n",
              "            style=\"display:none;\">\n",
              "\n",
              "  <svg xmlns=\"http://www.w3.org/2000/svg\" height=\"24px\" viewBox=\"0 -960 960 960\">\n",
              "    <path d=\"M120-120v-720h720v720H120Zm60-500h600v-160H180v160Zm220 220h160v-160H400v160Zm0 220h160v-160H400v160ZM180-400h160v-160H180v160Zm440 0h160v-160H620v160ZM180-180h160v-160H180v160Zm440 0h160v-160H620v160Z\"/>\n",
              "  </svg>\n",
              "    </button>\n",
              "\n",
              "  <style>\n",
              "    .colab-df-container {\n",
              "      display:flex;\n",
              "      gap: 12px;\n",
              "    }\n",
              "\n",
              "    .colab-df-convert {\n",
              "      background-color: #E8F0FE;\n",
              "      border: none;\n",
              "      border-radius: 50%;\n",
              "      cursor: pointer;\n",
              "      display: none;\n",
              "      fill: #1967D2;\n",
              "      height: 32px;\n",
              "      padding: 0 0 0 0;\n",
              "      width: 32px;\n",
              "    }\n",
              "\n",
              "    .colab-df-convert:hover {\n",
              "      background-color: #E2EBFA;\n",
              "      box-shadow: 0px 1px 2px rgba(60, 64, 67, 0.3), 0px 1px 3px 1px rgba(60, 64, 67, 0.15);\n",
              "      fill: #174EA6;\n",
              "    }\n",
              "\n",
              "    .colab-df-buttons div {\n",
              "      margin-bottom: 4px;\n",
              "    }\n",
              "\n",
              "    [theme=dark] .colab-df-convert {\n",
              "      background-color: #3B4455;\n",
              "      fill: #D2E3FC;\n",
              "    }\n",
              "\n",
              "    [theme=dark] .colab-df-convert:hover {\n",
              "      background-color: #434B5C;\n",
              "      box-shadow: 0px 1px 3px 1px rgba(0, 0, 0, 0.15);\n",
              "      filter: drop-shadow(0px 1px 2px rgba(0, 0, 0, 0.3));\n",
              "      fill: #FFFFFF;\n",
              "    }\n",
              "  </style>\n",
              "\n",
              "    <script>\n",
              "      const buttonEl =\n",
              "        document.querySelector('#df-dcf4fa8d-34eb-487e-b401-e195e76ba4cc button.colab-df-convert');\n",
              "      buttonEl.style.display =\n",
              "        google.colab.kernel.accessAllowed ? 'block' : 'none';\n",
              "\n",
              "      async function convertToInteractive(key) {\n",
              "        const element = document.querySelector('#df-dcf4fa8d-34eb-487e-b401-e195e76ba4cc');\n",
              "        const dataTable =\n",
              "          await google.colab.kernel.invokeFunction('convertToInteractive',\n",
              "                                                    [key], {});\n",
              "        if (!dataTable) return;\n",
              "\n",
              "        const docLinkHtml = 'Like what you see? Visit the ' +\n",
              "          '<a target=\"_blank\" href=https://colab.research.google.com/notebooks/data_table.ipynb>data table notebook</a>'\n",
              "          + ' to learn more about interactive tables.';\n",
              "        element.innerHTML = '';\n",
              "        dataTable['output_type'] = 'display_data';\n",
              "        await google.colab.output.renderOutput(dataTable, element);\n",
              "        const docLink = document.createElement('div');\n",
              "        docLink.innerHTML = docLinkHtml;\n",
              "        element.appendChild(docLink);\n",
              "      }\n",
              "    </script>\n",
              "  </div>\n",
              "\n",
              "\n",
              "    <div id=\"df-0f5adfef-b196-494f-974f-b5274757ad90\">\n",
              "      <button class=\"colab-df-quickchart\" onclick=\"quickchart('df-0f5adfef-b196-494f-974f-b5274757ad90')\"\n",
              "                title=\"Suggest charts\"\n",
              "                style=\"display:none;\">\n",
              "\n",
              "<svg xmlns=\"http://www.w3.org/2000/svg\" height=\"24px\"viewBox=\"0 0 24 24\"\n",
              "     width=\"24px\">\n",
              "    <g>\n",
              "        <path d=\"M19 3H5c-1.1 0-2 .9-2 2v14c0 1.1.9 2 2 2h14c1.1 0 2-.9 2-2V5c0-1.1-.9-2-2-2zM9 17H7v-7h2v7zm4 0h-2V7h2v10zm4 0h-2v-4h2v4z\"/>\n",
              "    </g>\n",
              "</svg>\n",
              "      </button>\n",
              "\n",
              "<style>\n",
              "  .colab-df-quickchart {\n",
              "      --bg-color: #E8F0FE;\n",
              "      --fill-color: #1967D2;\n",
              "      --hover-bg-color: #E2EBFA;\n",
              "      --hover-fill-color: #174EA6;\n",
              "      --disabled-fill-color: #AAA;\n",
              "      --disabled-bg-color: #DDD;\n",
              "  }\n",
              "\n",
              "  [theme=dark] .colab-df-quickchart {\n",
              "      --bg-color: #3B4455;\n",
              "      --fill-color: #D2E3FC;\n",
              "      --hover-bg-color: #434B5C;\n",
              "      --hover-fill-color: #FFFFFF;\n",
              "      --disabled-bg-color: #3B4455;\n",
              "      --disabled-fill-color: #666;\n",
              "  }\n",
              "\n",
              "  .colab-df-quickchart {\n",
              "    background-color: var(--bg-color);\n",
              "    border: none;\n",
              "    border-radius: 50%;\n",
              "    cursor: pointer;\n",
              "    display: none;\n",
              "    fill: var(--fill-color);\n",
              "    height: 32px;\n",
              "    padding: 0;\n",
              "    width: 32px;\n",
              "  }\n",
              "\n",
              "  .colab-df-quickchart:hover {\n",
              "    background-color: var(--hover-bg-color);\n",
              "    box-shadow: 0 1px 2px rgba(60, 64, 67, 0.3), 0 1px 3px 1px rgba(60, 64, 67, 0.15);\n",
              "    fill: var(--button-hover-fill-color);\n",
              "  }\n",
              "\n",
              "  .colab-df-quickchart-complete:disabled,\n",
              "  .colab-df-quickchart-complete:disabled:hover {\n",
              "    background-color: var(--disabled-bg-color);\n",
              "    fill: var(--disabled-fill-color);\n",
              "    box-shadow: none;\n",
              "  }\n",
              "\n",
              "  .colab-df-spinner {\n",
              "    border: 2px solid var(--fill-color);\n",
              "    border-color: transparent;\n",
              "    border-bottom-color: var(--fill-color);\n",
              "    animation:\n",
              "      spin 1s steps(1) infinite;\n",
              "  }\n",
              "\n",
              "  @keyframes spin {\n",
              "    0% {\n",
              "      border-color: transparent;\n",
              "      border-bottom-color: var(--fill-color);\n",
              "      border-left-color: var(--fill-color);\n",
              "    }\n",
              "    20% {\n",
              "      border-color: transparent;\n",
              "      border-left-color: var(--fill-color);\n",
              "      border-top-color: var(--fill-color);\n",
              "    }\n",
              "    30% {\n",
              "      border-color: transparent;\n",
              "      border-left-color: var(--fill-color);\n",
              "      border-top-color: var(--fill-color);\n",
              "      border-right-color: var(--fill-color);\n",
              "    }\n",
              "    40% {\n",
              "      border-color: transparent;\n",
              "      border-right-color: var(--fill-color);\n",
              "      border-top-color: var(--fill-color);\n",
              "    }\n",
              "    60% {\n",
              "      border-color: transparent;\n",
              "      border-right-color: var(--fill-color);\n",
              "    }\n",
              "    80% {\n",
              "      border-color: transparent;\n",
              "      border-right-color: var(--fill-color);\n",
              "      border-bottom-color: var(--fill-color);\n",
              "    }\n",
              "    90% {\n",
              "      border-color: transparent;\n",
              "      border-bottom-color: var(--fill-color);\n",
              "    }\n",
              "  }\n",
              "</style>\n",
              "\n",
              "      <script>\n",
              "        async function quickchart(key) {\n",
              "          const quickchartButtonEl =\n",
              "            document.querySelector('#' + key + ' button');\n",
              "          quickchartButtonEl.disabled = true;  // To prevent multiple clicks.\n",
              "          quickchartButtonEl.classList.add('colab-df-spinner');\n",
              "          try {\n",
              "            const charts = await google.colab.kernel.invokeFunction(\n",
              "                'suggestCharts', [key], {});\n",
              "          } catch (error) {\n",
              "            console.error('Error during call to suggestCharts:', error);\n",
              "          }\n",
              "          quickchartButtonEl.classList.remove('colab-df-spinner');\n",
              "          quickchartButtonEl.classList.add('colab-df-quickchart-complete');\n",
              "        }\n",
              "        (() => {\n",
              "          let quickchartButtonEl =\n",
              "            document.querySelector('#df-0f5adfef-b196-494f-974f-b5274757ad90 button');\n",
              "          quickchartButtonEl.style.display =\n",
              "            google.colab.kernel.accessAllowed ? 'block' : 'none';\n",
              "        })();\n",
              "      </script>\n",
              "    </div>\n",
              "\n",
              "  <div id=\"id_d899168a-29e6-4744-a9a5-ac322fe8d923\">\n",
              "    <style>\n",
              "      .colab-df-generate {\n",
              "        background-color: #E8F0FE;\n",
              "        border: none;\n",
              "        border-radius: 50%;\n",
              "        cursor: pointer;\n",
              "        display: none;\n",
              "        fill: #1967D2;\n",
              "        height: 32px;\n",
              "        padding: 0 0 0 0;\n",
              "        width: 32px;\n",
              "      }\n",
              "\n",
              "      .colab-df-generate:hover {\n",
              "        background-color: #E2EBFA;\n",
              "        box-shadow: 0px 1px 2px rgba(60, 64, 67, 0.3), 0px 1px 3px 1px rgba(60, 64, 67, 0.15);\n",
              "        fill: #174EA6;\n",
              "      }\n",
              "\n",
              "      [theme=dark] .colab-df-generate {\n",
              "        background-color: #3B4455;\n",
              "        fill: #D2E3FC;\n",
              "      }\n",
              "\n",
              "      [theme=dark] .colab-df-generate:hover {\n",
              "        background-color: #434B5C;\n",
              "        box-shadow: 0px 1px 3px 1px rgba(0, 0, 0, 0.15);\n",
              "        filter: drop-shadow(0px 1px 2px rgba(0, 0, 0, 0.3));\n",
              "        fill: #FFFFFF;\n",
              "      }\n",
              "    </style>\n",
              "    <button class=\"colab-df-generate\" onclick=\"generateWithVariable('binary_df')\"\n",
              "            title=\"Generate code using this dataframe.\"\n",
              "            style=\"display:none;\">\n",
              "\n",
              "  <svg xmlns=\"http://www.w3.org/2000/svg\" height=\"24px\"viewBox=\"0 0 24 24\"\n",
              "       width=\"24px\">\n",
              "    <path d=\"M7,19H8.4L18.45,9,17,7.55,7,17.6ZM5,21V16.75L18.45,3.32a2,2,0,0,1,2.83,0l1.4,1.43a1.91,1.91,0,0,1,.58,1.4,1.91,1.91,0,0,1-.58,1.4L9.25,21ZM18.45,9,17,7.55Zm-12,3A5.31,5.31,0,0,0,4.9,8.1,5.31,5.31,0,0,0,1,6.5,5.31,5.31,0,0,0,4.9,4.9,5.31,5.31,0,0,0,6.5,1,5.31,5.31,0,0,0,8.1,4.9,5.31,5.31,0,0,0,12,6.5,5.46,5.46,0,0,0,6.5,12Z\"/>\n",
              "  </svg>\n",
              "    </button>\n",
              "    <script>\n",
              "      (() => {\n",
              "      const buttonEl =\n",
              "        document.querySelector('#id_d899168a-29e6-4744-a9a5-ac322fe8d923 button.colab-df-generate');\n",
              "      buttonEl.style.display =\n",
              "        google.colab.kernel.accessAllowed ? 'block' : 'none';\n",
              "\n",
              "      buttonEl.onclick = () => {\n",
              "        google.colab.notebook.generateWithVariable('binary_df');\n",
              "      }\n",
              "      })();\n",
              "    </script>\n",
              "  </div>\n",
              "\n",
              "    </div>\n",
              "  </div>\n"
            ],
            "text/plain": [
              "              precision  recall  f1-score  support\n",
              "Healthy             1.0     1.0       1.0     25.0\n",
              "Mci                 1.0     1.0       1.0     25.0\n",
              "accuracy            1.0     1.0       1.0      1.0\n",
              "macro avg           1.0     1.0       1.0     50.0\n",
              "weighted avg        1.0     1.0       1.0     50.0"
            ]
          },
          "metadata": {},
          "output_type": "display_data"
        }
      ],
      "source": [
        "# 2. Classification Report (Healthy vs MCI only)\n",
        "binary_report = classification_report(\n",
        "    y_true, y_pred, labels=[\"Healthy\", \"Mci\"], output_dict=True, zero_division=0\n",
        ")\n",
        "binary_df = pd.DataFrame(binary_report).transpose()\n",
        "display(binary_df)"
      ]
    },
    {
      "cell_type": "markdown",
      "metadata": {
        "id": "jMIvi9hJvZ57"
      },
      "source": [
        "### Decision Distribution Chart"
      ]
    },
    {
      "cell_type": "code",
      "execution_count": 28,
      "metadata": {
        "colab": {
          "base_uri": "https://localhost:8080/",
          "height": 407
        },
        "id": "--QyXkLruXAV",
        "outputId": "feff8e31-8d66-4a47-fe9e-103be708ceea"
      },
      "outputs": [
        {
          "data": {
            "image/png": "[encoded data removed]",
            "text/plain": [
              "<Figure size 600x400 with 1 Axes>"
            ]
          },
          "metadata": {},
          "output_type": "display_data"
        }
      ],
      "source": [
        "# 3. Decision Distribution Chart\n",
        "decision_counts = df[\"LLM Decision\"].value_counts().reindex(labels, fill_value=0)\n",
        "\n",
        "plt.figure(figsize=(6, 4))\n",
        "sns.barplot(\n",
        "    x=decision_counts.index,\n",
        "    y=decision_counts.values,\n",
        "    hue=decision_counts.index,\n",
        "    palette=\"mako\",\n",
        "    legend=False\n",
        ")\n",
        "plt.ylabel(\"Count\")\n",
        "plt.title(\"LLM Decision Distribution\")\n",
        "plt.tight_layout()\n",
        "plt.show()\n"
      ]
    }
  ],
  "metadata": {
    "colab": {
      "collapsed_sections": [
        "VTXPRAGGtkDJ"
      ],
      "provenance": []
    },
    "kernelspec": {
      "display_name": "alz_env",
      "language": "python",
      "name": "python3"
    },
    "language_info": {
      "codemirror_mode": {
        "name": "ipython",
        "version": 3
      },
      "file_extension": ".py",
      "mimetype": "text/x-python",
      "name": "python",
      "nbconvert_exporter": "python",
      "pygments_lexer": "ipython3",
      "version": "3.13.3"
    }
  },
  "nbformat": 4,
  "nbformat_minor": 0
}
